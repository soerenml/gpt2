{
 "cells": [
  {
   "cell_type": "code",
   "execution_count": 1,
   "metadata": {},
   "outputs": [],
   "source": [
    "import torch\n",
    "import torch.nn as nn\n",
    "import matplotlib.pyplot as plt\n",
    "import math\n",
    "from torch.nn import functional as F\n",
    "import numpy as np\n",
    "import tiktoken"
   ]
  },
  {
   "cell_type": "markdown",
   "metadata": {},
   "source": [
    "### E0 - Fetching the Original Model\n",
    "\n",
    "Let's examine the weights of the original model.\n",
    "\n",
    "#### Model Components\n",
    "\n",
    "* **Token Embeddings:** `transformer.wte.weight` is a lookup table for the model's vocabulary. Its size is `torch.Size([50257, 768])`, meaning there are **50,257** unique tokens, each with a vector representation (embedding) of **768** dimensions.\n",
    "\n",
    "* **Positional Embeddings:** `transformer.wpe.weight` is a lookup table that provides an embedding for each position in the sequence. Its size is `torch.Size([1024, 768])`, which corresponds to **1,024** possible positions, each with a **768-dimensional** embedding.\n"
   ]
  },
  {
   "cell_type": "code",
   "execution_count": 2,
   "metadata": {},
   "outputs": [
    {
     "name": "stderr",
     "output_type": "stream",
     "text": [
      "/Users/soeren/code/gpt2/.venv/lib/python3.9/site-packages/urllib3/__init__.py:35: NotOpenSSLWarning: urllib3 v2 only supports OpenSSL 1.1.1+, currently the 'ssl' module is compiled with 'LibreSSL 2.8.3'. See: https://github.com/urllib3/urllib3/issues/3020\n",
      "  warnings.warn(\n",
      "/Users/soeren/code/gpt2/.venv/lib/python3.9/site-packages/tqdm/auto.py:21: TqdmWarning: IProgress not found. Please update jupyter and ipywidgets. See https://ipywidgets.readthedocs.io/en/stable/user_install.html\n",
      "  from .autonotebook import tqdm as notebook_tqdm\n"
     ]
    },
    {
     "name": "stdout",
     "output_type": "stream",
     "text": [
      "transformer.wte.weight torch.Size([50257, 768])\n",
      "transformer.wpe.weight torch.Size([1024, 768])\n",
      "transformer.h.0.ln_1.weight torch.Size([768])\n",
      "transformer.h.0.ln_1.bias torch.Size([768])\n",
      "transformer.h.0.attn.c_attn.weight torch.Size([768, 2304])\n",
      "transformer.h.0.attn.c_attn.bias torch.Size([2304])\n",
      "transformer.h.0.attn.c_proj.weight torch.Size([768, 768])\n",
      "transformer.h.0.attn.c_proj.bias torch.Size([768])\n",
      "transformer.h.0.ln_2.weight torch.Size([768])\n",
      "transformer.h.0.ln_2.bias torch.Size([768])\n",
      "transformer.h.0.mlp.c_fc.weight torch.Size([768, 3072])\n",
      "transformer.h.0.mlp.c_fc.bias torch.Size([3072])\n",
      "transformer.h.0.mlp.c_proj.weight torch.Size([3072, 768])\n",
      "transformer.h.0.mlp.c_proj.bias torch.Size([768])\n",
      "transformer.h.1.ln_1.weight torch.Size([768])\n",
      "transformer.h.1.ln_1.bias torch.Size([768])\n",
      "transformer.h.1.attn.c_attn.weight torch.Size([768, 2304])\n",
      "transformer.h.1.attn.c_attn.bias torch.Size([2304])\n",
      "transformer.h.1.attn.c_proj.weight torch.Size([768, 768])\n",
      "transformer.h.1.attn.c_proj.bias torch.Size([768])\n",
      "transformer.h.1.ln_2.weight torch.Size([768])\n",
      "transformer.h.1.ln_2.bias torch.Size([768])\n",
      "transformer.h.1.mlp.c_fc.weight torch.Size([768, 3072])\n",
      "transformer.h.1.mlp.c_fc.bias torch.Size([3072])\n",
      "transformer.h.1.mlp.c_proj.weight torch.Size([3072, 768])\n",
      "transformer.h.1.mlp.c_proj.bias torch.Size([768])\n",
      "transformer.h.2.ln_1.weight torch.Size([768])\n",
      "transformer.h.2.ln_1.bias torch.Size([768])\n",
      "transformer.h.2.attn.c_attn.weight torch.Size([768, 2304])\n",
      "transformer.h.2.attn.c_attn.bias torch.Size([2304])\n",
      "transformer.h.2.attn.c_proj.weight torch.Size([768, 768])\n",
      "transformer.h.2.attn.c_proj.bias torch.Size([768])\n",
      "transformer.h.2.ln_2.weight torch.Size([768])\n",
      "transformer.h.2.ln_2.bias torch.Size([768])\n",
      "transformer.h.2.mlp.c_fc.weight torch.Size([768, 3072])\n",
      "transformer.h.2.mlp.c_fc.bias torch.Size([3072])\n",
      "transformer.h.2.mlp.c_proj.weight torch.Size([3072, 768])\n",
      "transformer.h.2.mlp.c_proj.bias torch.Size([768])\n",
      "transformer.h.3.ln_1.weight torch.Size([768])\n",
      "transformer.h.3.ln_1.bias torch.Size([768])\n",
      "transformer.h.3.attn.c_attn.weight torch.Size([768, 2304])\n",
      "transformer.h.3.attn.c_attn.bias torch.Size([2304])\n",
      "transformer.h.3.attn.c_proj.weight torch.Size([768, 768])\n",
      "transformer.h.3.attn.c_proj.bias torch.Size([768])\n",
      "transformer.h.3.ln_2.weight torch.Size([768])\n",
      "transformer.h.3.ln_2.bias torch.Size([768])\n",
      "transformer.h.3.mlp.c_fc.weight torch.Size([768, 3072])\n",
      "transformer.h.3.mlp.c_fc.bias torch.Size([3072])\n",
      "transformer.h.3.mlp.c_proj.weight torch.Size([3072, 768])\n",
      "transformer.h.3.mlp.c_proj.bias torch.Size([768])\n",
      "transformer.h.4.ln_1.weight torch.Size([768])\n",
      "transformer.h.4.ln_1.bias torch.Size([768])\n",
      "transformer.h.4.attn.c_attn.weight torch.Size([768, 2304])\n",
      "transformer.h.4.attn.c_attn.bias torch.Size([2304])\n",
      "transformer.h.4.attn.c_proj.weight torch.Size([768, 768])\n",
      "transformer.h.4.attn.c_proj.bias torch.Size([768])\n",
      "transformer.h.4.ln_2.weight torch.Size([768])\n",
      "transformer.h.4.ln_2.bias torch.Size([768])\n",
      "transformer.h.4.mlp.c_fc.weight torch.Size([768, 3072])\n",
      "transformer.h.4.mlp.c_fc.bias torch.Size([3072])\n",
      "transformer.h.4.mlp.c_proj.weight torch.Size([3072, 768])\n",
      "transformer.h.4.mlp.c_proj.bias torch.Size([768])\n",
      "transformer.h.5.ln_1.weight torch.Size([768])\n",
      "transformer.h.5.ln_1.bias torch.Size([768])\n",
      "transformer.h.5.attn.c_attn.weight torch.Size([768, 2304])\n",
      "transformer.h.5.attn.c_attn.bias torch.Size([2304])\n",
      "transformer.h.5.attn.c_proj.weight torch.Size([768, 768])\n",
      "transformer.h.5.attn.c_proj.bias torch.Size([768])\n",
      "transformer.h.5.ln_2.weight torch.Size([768])\n",
      "transformer.h.5.ln_2.bias torch.Size([768])\n",
      "transformer.h.5.mlp.c_fc.weight torch.Size([768, 3072])\n",
      "transformer.h.5.mlp.c_fc.bias torch.Size([3072])\n",
      "transformer.h.5.mlp.c_proj.weight torch.Size([3072, 768])\n",
      "transformer.h.5.mlp.c_proj.bias torch.Size([768])\n",
      "transformer.h.6.ln_1.weight torch.Size([768])\n",
      "transformer.h.6.ln_1.bias torch.Size([768])\n",
      "transformer.h.6.attn.c_attn.weight torch.Size([768, 2304])\n",
      "transformer.h.6.attn.c_attn.bias torch.Size([2304])\n",
      "transformer.h.6.attn.c_proj.weight torch.Size([768, 768])\n",
      "transformer.h.6.attn.c_proj.bias torch.Size([768])\n",
      "transformer.h.6.ln_2.weight torch.Size([768])\n",
      "transformer.h.6.ln_2.bias torch.Size([768])\n",
      "transformer.h.6.mlp.c_fc.weight torch.Size([768, 3072])\n",
      "transformer.h.6.mlp.c_fc.bias torch.Size([3072])\n",
      "transformer.h.6.mlp.c_proj.weight torch.Size([3072, 768])\n",
      "transformer.h.6.mlp.c_proj.bias torch.Size([768])\n",
      "transformer.h.7.ln_1.weight torch.Size([768])\n",
      "transformer.h.7.ln_1.bias torch.Size([768])\n",
      "transformer.h.7.attn.c_attn.weight torch.Size([768, 2304])\n",
      "transformer.h.7.attn.c_attn.bias torch.Size([2304])\n",
      "transformer.h.7.attn.c_proj.weight torch.Size([768, 768])\n",
      "transformer.h.7.attn.c_proj.bias torch.Size([768])\n",
      "transformer.h.7.ln_2.weight torch.Size([768])\n",
      "transformer.h.7.ln_2.bias torch.Size([768])\n",
      "transformer.h.7.mlp.c_fc.weight torch.Size([768, 3072])\n",
      "transformer.h.7.mlp.c_fc.bias torch.Size([3072])\n",
      "transformer.h.7.mlp.c_proj.weight torch.Size([3072, 768])\n",
      "transformer.h.7.mlp.c_proj.bias torch.Size([768])\n",
      "transformer.h.8.ln_1.weight torch.Size([768])\n",
      "transformer.h.8.ln_1.bias torch.Size([768])\n",
      "transformer.h.8.attn.c_attn.weight torch.Size([768, 2304])\n",
      "transformer.h.8.attn.c_attn.bias torch.Size([2304])\n",
      "transformer.h.8.attn.c_proj.weight torch.Size([768, 768])\n",
      "transformer.h.8.attn.c_proj.bias torch.Size([768])\n",
      "transformer.h.8.ln_2.weight torch.Size([768])\n",
      "transformer.h.8.ln_2.bias torch.Size([768])\n",
      "transformer.h.8.mlp.c_fc.weight torch.Size([768, 3072])\n",
      "transformer.h.8.mlp.c_fc.bias torch.Size([3072])\n",
      "transformer.h.8.mlp.c_proj.weight torch.Size([3072, 768])\n",
      "transformer.h.8.mlp.c_proj.bias torch.Size([768])\n",
      "transformer.h.9.ln_1.weight torch.Size([768])\n",
      "transformer.h.9.ln_1.bias torch.Size([768])\n",
      "transformer.h.9.attn.c_attn.weight torch.Size([768, 2304])\n",
      "transformer.h.9.attn.c_attn.bias torch.Size([2304])\n",
      "transformer.h.9.attn.c_proj.weight torch.Size([768, 768])\n",
      "transformer.h.9.attn.c_proj.bias torch.Size([768])\n",
      "transformer.h.9.ln_2.weight torch.Size([768])\n",
      "transformer.h.9.ln_2.bias torch.Size([768])\n",
      "transformer.h.9.mlp.c_fc.weight torch.Size([768, 3072])\n",
      "transformer.h.9.mlp.c_fc.bias torch.Size([3072])\n",
      "transformer.h.9.mlp.c_proj.weight torch.Size([3072, 768])\n",
      "transformer.h.9.mlp.c_proj.bias torch.Size([768])\n",
      "transformer.h.10.ln_1.weight torch.Size([768])\n",
      "transformer.h.10.ln_1.bias torch.Size([768])\n",
      "transformer.h.10.attn.c_attn.weight torch.Size([768, 2304])\n",
      "transformer.h.10.attn.c_attn.bias torch.Size([2304])\n",
      "transformer.h.10.attn.c_proj.weight torch.Size([768, 768])\n",
      "transformer.h.10.attn.c_proj.bias torch.Size([768])\n",
      "transformer.h.10.ln_2.weight torch.Size([768])\n",
      "transformer.h.10.ln_2.bias torch.Size([768])\n",
      "transformer.h.10.mlp.c_fc.weight torch.Size([768, 3072])\n",
      "transformer.h.10.mlp.c_fc.bias torch.Size([3072])\n",
      "transformer.h.10.mlp.c_proj.weight torch.Size([3072, 768])\n",
      "transformer.h.10.mlp.c_proj.bias torch.Size([768])\n",
      "transformer.h.11.ln_1.weight torch.Size([768])\n",
      "transformer.h.11.ln_1.bias torch.Size([768])\n",
      "transformer.h.11.attn.c_attn.weight torch.Size([768, 2304])\n",
      "transformer.h.11.attn.c_attn.bias torch.Size([2304])\n",
      "transformer.h.11.attn.c_proj.weight torch.Size([768, 768])\n",
      "transformer.h.11.attn.c_proj.bias torch.Size([768])\n",
      "transformer.h.11.ln_2.weight torch.Size([768])\n",
      "transformer.h.11.ln_2.bias torch.Size([768])\n",
      "transformer.h.11.mlp.c_fc.weight torch.Size([768, 3072])\n",
      "transformer.h.11.mlp.c_fc.bias torch.Size([3072])\n",
      "transformer.h.11.mlp.c_proj.weight torch.Size([3072, 768])\n",
      "transformer.h.11.mlp.c_proj.bias torch.Size([768])\n",
      "transformer.ln_f.weight torch.Size([768])\n",
      "transformer.ln_f.bias torch.Size([768])\n",
      "lm_head.weight torch.Size([50257, 768])\n"
     ]
    }
   ],
   "source": [
    "from transformers import GPT2LMHeadModel\n",
    "\n",
    "model_hf = GPT2LMHeadModel.from_pretrained('gpt2') #124M\n",
    "sd_hf = model_hf.state_dict()\n",
    "\n",
    "# Print key and values of the tensor\n",
    "for k in sd_hf:\n",
    "    print(k, sd_hf[k].shape)"
   ]
  },
  {
   "cell_type": "markdown",
   "metadata": {},
   "source": [
    "### Decoder Blocks (Layers)\n",
    "\n",
    "The `transformer.h` part of the names refers to the \"hidden\" or **decoder blocks**, which are the core computational units of the Transformer model. The number `0` (e.g., `transformer.h.0`) indicates the first block. A full model would have multiple blocks (e.g., `transformer.h.1`, `transformer.h.2`, etc.).\n",
    "\n",
    "Each decoder block contains two main components: a **Multi-Head Self-Attention** mechanism and a **Multi-Layer Perceptron (MLP)**.\n",
    "\n",
    "**1. Layer Normalization**\n",
    "\n",
    "* **`transformer.h.0.ln_1.weight`** and **`transformer.h.0.ln_1.bias`**: These are the parameters for the first **layer normalization** layer. This layer normalizes the data to have a mean of 0 and a standard deviation of 1 before it enters the attention mechanism. This helps stabilize training.\n",
    "\n",
    "**2. Attention Mechanism**\n",
    "\n",
    "* **`transformer.h.0.attn.c_attn.weight`**: This weight matrix is used to compute the **query, key, and value** vectors for the attention mechanism.\n",
    "    * `torch.Size([768, 2304])`: The input dimension is **768** (the embedding size). The output dimension is **2304**, which is three times the input dimension (`3 * 768`), because it's used to generate the three vectors (query, key, and value) at once.\n",
    "* **`transformer.h.0.attn.c_attn.bias`**: This is the corresponding bias vector for `c_attn`.\n",
    "* **`transformer.h.0.attn.c_proj.weight`** and **`transformer.h.0.attn.c_proj.bias`**: These parameters project the concatenated output of the attention heads back to the original `768-dimensional` space.\n",
    "\n",
    "**3. Second Layer Normalization**\n",
    "\n",
    "* **`transformer.h.0.ln_2.weight`** and **`transformer.h.0.ln_2.bias`**: These are the parameters for the second layer normalization, which is applied before the data enters the MLP.\n",
    "\n",
    "**4. Multi-Layer Perceptron (MLP)**\n",
    "\n",
    "* **`transformer.h.0.mlp.c_fc.weight`** and **`transformer.h.0.mlp.c_fc.bias`**: These are the parameters for the first layer of the MLP, a fully connected feed-forward network.\n",
    "    * `torch.Size([768, 3072])`: It expands the `768-dimensional` data to a larger, `3072-dimensional` representation (`4 * 768`).\n",
    "* **`transformer.h.0.mlp.c_proj.weight`** and **`transformer.h.0.mlp.c_proj.bias`**: These are the parameters for the second layer of the MLP, which projects the data back down to the original `768-dimensional` size.\n",
    "\n",
    "---\n",
    "\n",
    "### Follow up questions:\n",
    "\n",
    "#### Q1 - Why do we need a bias when running layer normalization (`transformer.h.0.ln_1.bias`)\n",
    "\n",
    "We need a bias for layer normalization to allow the normalized outputs to be shifted to any range. Without a bias, the layer normalization output would always have a mean of zero, which might not be the optimal mean for the subsequent layer. The bias, along with the scale parameter, provides the layer with the flexibility to learn the best possible mean and standard deviation for its output, improving the model's expressive power and helping it learn more complex patterns.\n",
    "\n",
    "**How It Works**\n",
    "\n",
    "Layer normalization standardizes the inputs to a layer to have a mean of 0 and a variance of 1. It then applies two learnable parameters: a **scale parameter ($\\gamma$)** and a **bias parameter ($\\beta$)**. The final output of the layer normalization is calculated using the following formula:\n",
    "\n",
    "$$\\text{Output} = \\gamma \\cdot \\frac{x - \\mu}{\\sigma} + \\beta$$\n",
    "\n",
    "* **$x$**: The input to the layer.\n",
    "* **$\\mu$**: The mean of the input.\n",
    "* **$\\sigma$**: The standard deviation of the input.\n",
    "* **$\\frac{x - \\mu}{\\sigma}$**: This is the core normalization step, ensuring the output has a mean of 0 and a variance of 1.\n",
    "* **$\\gamma$**: The learnable scale parameter.\n",
    "* **$\\beta$**: The learnable bias parameter.\n",
    "\n",
    "The bias parameter ($\\beta$) allows the model to shift the mean of the normalized output. This is crucial because while normalizing the data to a mean of zero is a good starting point for training, the ideal mean for a specific layer's input might not be zero. The bias allows the network to find the optimal data distribution for each layer, which helps in faster convergence and better performance. In essence, the scale and bias parameters allow the model to undo the normalization if needed, giving it the flexibility to learn the most effective data representation for the task at hand."
   ]
  },
  {
   "cell_type": "markdown",
   "metadata": {},
   "source": [
    "<img src=\"images/trans_arch.jpg\" alt=\"Alt text\" width=\"500\"/>"
   ]
  },
  {
   "cell_type": "markdown",
   "metadata": {},
   "source": [
    "# E1 - Linear layers\n",
    "\n",
    "A **linear layer** (or **fully connected layer**) in a neural network is a layer where each input neuron is connected to each output neuron with a certain weight. This layer performs a linear transformation on the input vector.\n",
    "\n",
    "Given an input vector $\\mathbf{x} \\in \\mathbb{R}^n$ and a weight matrix $\\mathbf{W} \\in \\mathbb{R}^{m \\times n}$, and a bias vector $\\mathbf{b} \\in \\mathbb{R}^m$, the output $\\mathbf{y}$ of a linear layer can be computed as:\n",
    "\n",
    "$$\n",
    "\\mathbf{y} = \\mathbf{W} \\mathbf{x} + \\mathbf{b}\n",
    "$$\n",
    "\n",
    "- **Input Vector** $\\mathbf{x}$: $\\begin{bmatrix} x_1 \\\\ x_2 \\\\ \\vdots \\\\ x_n \\end{bmatrix}$\n",
    "- **Weight Matrix** $\\mathbf{W}$: $\\begin{bmatrix} w_{11} & w_{21} & \\cdots & w_{n1} \\\\ w_{12} & w_{22} & \\cdots & w_{n2} \\\\ \\vdots & \\vdots & \\ddots & \\vdots \\\\ w_{1m} & w_{2m} & \\cdots & w_{nm} \\end{bmatrix}$\n",
    "- **Bias Vector** $\\mathbf{b}$: $\\begin{bmatrix} b_1 \\\\ b_2 \\\\ \\vdots \\\\ b_m \\end{bmatrix}$\n",
    "- **Output Vector** $\\mathbf{y}$: $\\begin{bmatrix} y_1 \\\\ y_2 \\\\ \\vdots \\\\ y_m \\end{bmatrix}$"
   ]
  },
  {
   "cell_type": "markdown",
   "metadata": {},
   "source": [
    "![Alt text](images/q_k_v.png)"
   ]
  },
  {
   "cell_type": "markdown",
   "metadata": {},
   "source": [
    "If we create the following:\n",
    "\n",
    "`nn.Linear(3, 4)`\n",
    "\n",
    "We get a weight matrix according to the dimensionality of of the output neurons $y$\n",
    "\n",
    "- **Input Vector** $\\mathbf{x}$: $\\begin{bmatrix} x_1 \\\\ x_2 \\\\ x_3 \\end{bmatrix}$\n",
    "- **Weight Matrix** $\\mathbf{W} = \\begin{bmatrix}\n",
    "w_{11} & w_{21} & w_{31} \\\\\n",
    "w_{12} & w_{22} & w_{32} \\\\\n",
    "w_{13} & w_{23} & w_{33} \\\\\n",
    "w_{14} & w_{24} & w_{34}\n",
    "\\end{bmatrix}$\n",
    "- **Bias Vector** $\\mathbf{b}$: $\\begin{bmatrix} b_1 \\\\ b_2 \\\\ b_3 \\\\ b_4 \\end{bmatrix}$\n",
    "- **Output Vector** $\\mathbf{y}$: $\\begin{bmatrix} y_1 \\\\ y_2 \\\\ y_3 \\\\ y_4 \\end{bmatrix}$\n",
    "\n"
   ]
  },
  {
   "cell_type": "code",
   "execution_count": 29,
   "metadata": {},
   "outputs": [
    {
     "name": "stdout",
     "output_type": "stream",
     "text": [
      "odict_keys(['linear.weight', 'linear.bias'])\n",
      "tensor([[-0.4671,  0.2912, -0.4283],\n",
      "        [-0.0576, -0.1183, -0.1192],\n",
      "        [ 0.5676,  0.1285,  0.5333],\n",
      "        [ 0.4620, -0.0255, -0.4831],\n",
      "        [ 0.0646, -0.3111,  0.1845],\n",
      "        [-0.1656,  0.2905, -0.3450],\n",
      "        [ 0.2120, -0.0692,  0.4314],\n",
      "        [ 0.1323, -0.3696, -0.4060],\n",
      "        [-0.1731,  0.1358, -0.2280]])\n"
     ]
    }
   ],
   "source": [
    "class MyLinearLayer(nn.Module):\n",
    "    def __init__(self, input_size, output_size):\n",
    "        super().__init__()\n",
    "        self.linear = nn.Linear(input_size, output_size)\n",
    "\n",
    "    # Define flow\n",
    "    def forward(self, x):\n",
    "        return self.linear(x)\n",
    "\n",
    "input_size = 3\n",
    "output_size = 9\n",
    "\n",
    "x = torch.randn(1, input_size)  # Random input tensor\n",
    "\n",
    "model = MyLinearLayer(input_size, output_size)\n",
    "output = model(x)\n",
    "\n",
    "state_dict = model.state_dict()\n",
    "\n",
    "# Print of the state_dict\n",
    "print(state_dict.keys())\n",
    "\n",
    "# Access weights of a specific layer\n",
    "print(state_dict['linear.weight'])\n",
    "\n",
    "# When we look at the weight matrix, it's had exactly the dimension we expectec based on the math above."
   ]
  },
  {
   "cell_type": "markdown",
   "metadata": {},
   "source": [
    "# E2 - Mask"
   ]
  },
  {
   "cell_type": "code",
   "execution_count": 30,
   "metadata": {},
   "outputs": [
    {
     "name": "stdout",
     "output_type": "stream",
     "text": [
      "tensor([[1., 1., 1., 1., 1., 1., 1., 1., 1., 1.],\n",
      "        [1., 1., 1., 1., 1., 1., 1., 1., 1., 1.],\n",
      "        [1., 1., 1., 1., 1., 1., 1., 1., 1., 1.],\n",
      "        [1., 1., 1., 1., 1., 1., 1., 1., 1., 1.],\n",
      "        [1., 1., 1., 1., 1., 1., 1., 1., 1., 1.],\n",
      "        [1., 1., 1., 1., 1., 1., 1., 1., 1., 1.],\n",
      "        [1., 1., 1., 1., 1., 1., 1., 1., 1., 1.],\n",
      "        [1., 1., 1., 1., 1., 1., 1., 1., 1., 1.],\n",
      "        [1., 1., 1., 1., 1., 1., 1., 1., 1., 1.],\n",
      "        [1., 1., 1., 1., 1., 1., 1., 1., 1., 1.]]), \n",
      "\n",
      " tensor([[1., 0., 0., 0., 0., 0., 0., 0., 0., 0.],\n",
      "        [1., 1., 0., 0., 0., 0., 0., 0., 0., 0.],\n",
      "        [1., 1., 1., 0., 0., 0., 0., 0., 0., 0.],\n",
      "        [1., 1., 1., 1., 0., 0., 0., 0., 0., 0.],\n",
      "        [1., 1., 1., 1., 1., 0., 0., 0., 0., 0.],\n",
      "        [1., 1., 1., 1., 1., 1., 0., 0., 0., 0.],\n",
      "        [1., 1., 1., 1., 1., 1., 1., 0., 0., 0.],\n",
      "        [1., 1., 1., 1., 1., 1., 1., 1., 0., 0.],\n",
      "        [1., 1., 1., 1., 1., 1., 1., 1., 1., 0.],\n",
      "        [1., 1., 1., 1., 1., 1., 1., 1., 1., 1.]]) \n",
      "\n",
      " tensor([[[[1., 0., 0., 0., 0., 0., 0., 0., 0., 0.],\n",
      "          [1., 1., 0., 0., 0., 0., 0., 0., 0., 0.],\n",
      "          [1., 1., 1., 0., 0., 0., 0., 0., 0., 0.],\n",
      "          [1., 1., 1., 1., 0., 0., 0., 0., 0., 0.],\n",
      "          [1., 1., 1., 1., 1., 0., 0., 0., 0., 0.],\n",
      "          [1., 1., 1., 1., 1., 1., 0., 0., 0., 0.],\n",
      "          [1., 1., 1., 1., 1., 1., 1., 0., 0., 0.],\n",
      "          [1., 1., 1., 1., 1., 1., 1., 1., 0., 0.],\n",
      "          [1., 1., 1., 1., 1., 1., 1., 1., 1., 0.],\n",
      "          [1., 1., 1., 1., 1., 1., 1., 1., 1., 1.]]]])\n"
     ]
    }
   ],
   "source": [
    "block_size = 10  # The maximum length of the input sequence\n",
    "\n",
    "ones_matrix = torch.ones(block_size, block_size)\n",
    "lower_triangular_matrix = torch.tril(ones_matrix)\n",
    "mask = lower_triangular_matrix.view(1, 1, block_size, block_size)\n",
    "\n",
    "print(f\"\"\"{ones_matrix}, \\n\\n {lower_triangular_matrix} \\n\\n {mask}\"\"\")"
   ]
  },
  {
   "cell_type": "markdown",
   "metadata": {},
   "source": [
    "# E3 - Splitting"
   ]
  },
  {
   "cell_type": "code",
   "execution_count": 31,
   "metadata": {},
   "outputs": [
    {
     "name": "stdout",
     "output_type": "stream",
     "text": [
      "\n",
      "\n",
      "Input tensor \n",
      "\n",
      " tensor([[[-2.1698,  0.6826, -1.1638,  1.5941,  1.8476],\n",
      "         [ 1.1437, -0.9423,  1.0330, -1.4596, -0.3861],\n",
      "         [ 0.3245,  1.5895, -1.0048, -0.8807,  1.3424]],\n",
      "\n",
      "        [[-0.8365, -2.1496,  0.5740, -0.5460, -0.9132],\n",
      "         [-0.2894,  0.0986, -0.9958, -0.8240, -1.0636],\n",
      "         [ 0.3557, -0.6433,  1.0517,  1.5815,  0.6039]],\n",
      "\n",
      "        [[ 0.8503, -0.3699,  0.5846, -0.8663,  1.4372],\n",
      "         [ 0.1906, -0.6420,  0.3558,  0.1981, -1.4585],\n",
      "         [ 0.4030,  0.3126, -0.1588,  0.8097,  0.3528]],\n",
      "\n",
      "        [[ 1.0425, -0.0618, -0.1667, -1.1555, -0.0031],\n",
      "         [-0.7524,  0.7781, -1.0059, -0.0085,  0.8720],\n",
      "         [-0.8803, -0.6547, -1.0416,  0.7096,  1.1041]]])\n",
      "\n",
      "\n",
      "Weights linear layer \n",
      "\n",
      " Parameter containing:\n",
      "tensor([[-0.1216,  0.2178,  0.1190, -0.0951,  0.3432],\n",
      "        [-0.3136,  0.1212,  0.3269, -0.0258,  0.1089],\n",
      "        [ 0.1307,  0.0847,  0.3193,  0.1209, -0.0460],\n",
      "        [ 0.4076, -0.2450, -0.0261, -0.3485,  0.1512],\n",
      "        [ 0.0374, -0.1124,  0.0687, -0.3511,  0.3407],\n",
      "        [-0.0027, -0.1978,  0.2237, -0.0768, -0.1568],\n",
      "        [ 0.1448, -0.0454, -0.3983,  0.3846,  0.0429],\n",
      "        [ 0.2207, -0.3794, -0.1714,  0.0094, -0.1393],\n",
      "        [-0.1519,  0.1356,  0.2234, -0.3640, -0.2257],\n",
      "        [ 0.3510, -0.0077, -0.3053,  0.0115,  0.3689],\n",
      "        [ 0.0233,  0.1269, -0.2634,  0.1615,  0.3596],\n",
      "        [-0.0372,  0.0722, -0.1320,  0.1824,  0.2816],\n",
      "        [ 0.3805, -0.0161, -0.1861, -0.2233,  0.1087],\n",
      "        [ 0.3832, -0.4366,  0.4330,  0.0614, -0.3230],\n",
      "        [ 0.0293, -0.0692,  0.1355,  0.0539,  0.4217]], requires_grad=True)\n",
      "\n",
      "\n",
      "qkv tensor \n",
      "\n",
      " tensor([[[ 7.3858e-01,  3.1958e-01, -4.8283e-01, -1.6039e+00, -4.7740e-01,\n",
      "          -9.9109e-01,  9.7530e-01, -7.6921e-01, -1.1579e+00,  2.4019e-01,\n",
      "           1.2305e+00,  8.8138e-01, -9.1518e-01, -2.4855e+00,  9.5353e-01],\n",
      "         [-2.3262e-01, -3.6277e-01,  2.4753e-01,  8.1398e-01,  2.9115e-01,\n",
      "           3.9758e-01, -6.1630e-01,  4.8466e-01,  2.2516e-01, -1.1378e-01,\n",
      "          -7.7380e-01, -8.3498e-01,  4.0190e-01,  9.7890e-01,  3.5442e-01],\n",
      "         [ 7.1394e-01, -2.9192e-01, -3.0519e-01, -2.7555e-02,  2.2168e-01,\n",
      "          -8.7235e-01,  2.5858e-01, -5.4285e-01, -3.6326e-01,  8.4542e-01,\n",
      "           7.8030e-01,  2.3947e-01,  4.8732e-01, -1.8456e+00,  6.3915e-01]],\n",
      "\n",
      "        [[-5.7729e-01, -1.1906e-01, -1.2540e-01, -8.3454e-02, -1.7910e-01,\n",
      "           5.5148e-01, -3.3676e-01,  6.6624e-01,  4.6025e-02, -8.4337e-01,\n",
      "          -8.9415e-01, -7.6967e-01, -5.0795e-01,  7.7474e-01,  1.4453e-01],\n",
      "         [-3.6614e-01, -5.4057e-01, -3.9129e-01, -2.9626e-01, -4.7271e-01,\n",
      "          -2.0086e-01,  1.5224e-01,  2.2144e-01,  5.2262e-02, -2.4816e-01,\n",
      "          -2.8168e-01, -5.1365e-01,  1.7996e-03, -6.4537e-01, -2.8614e-01],\n",
      "         [-1.9106e-02, -4.4003e-02,  4.9796e-01, -4.9106e-01, -5.0109e-01,\n",
      "          -4.3997e-02,  4.6068e-01,  8.4787e-02, -9.4090e-01,  1.7885e-03,\n",
      "           8.8174e-02,  4.6833e-02, -4.7765e-01,  4.2149e-01,  8.9452e-01]],\n",
      "\n",
      "        [[ 4.4358e-01, -1.6475e-01,  1.0236e-01,  6.3480e-01,  5.9795e-01,\n",
      "          -1.4664e-01, -1.9973e-01,  3.1162e-02, -3.8037e-01,  5.9509e-01,\n",
      "           1.6170e-01, -1.0195e-01,  4.3030e-01, -1.3006e-01,  1.0464e+00],\n",
      "         [-6.5768e-01, -4.0840e-01,  1.8195e-01, -3.7031e-01, -7.7213e-01,\n",
      "           2.3014e-01,  9.3250e-02,  4.4137e-01, -1.0202e-01, -6.2042e-01,\n",
      "          -6.9740e-01, -6.8812e-01, -3.2636e-01,  6.3746e-01, -1.4907e-01],\n",
      "         [ 2.6549e-02, -3.4613e-01,  1.1688e-01, -4.4346e-01, -5.0444e-01,\n",
      "          -4.0538e-01,  5.9864e-01, -3.2285e-02, -7.5128e-01,  2.7905e-01,\n",
      "           3.1446e-01,  6.2383e-02, -1.0475e-01, -4.6824e-01,  5.1821e-01]],\n",
      "\n",
      "        [[-6.8835e-02, -5.8265e-01, -5.4994e-02,  5.4021e-01,  1.2975e-01,\n",
      "          -1.2811e-01, -5.9727e-02,  2.8337e-01, -1.0522e-01,  3.5490e-01,\n",
      "          -1.6155e-01, -4.4602e-01,  5.4621e-01, -6.8841e-02,  3.0581e-01],\n",
      "         [ 4.2358e-01, -1.2662e-01, -3.8795e-01, -6.4273e-01, -1.9396e-01,\n",
      "          -7.0243e-01,  4.5513e-01, -3.9879e-01, -5.2132e-01,  3.1053e-01,\n",
      "           6.2430e-01,  2.4773e-01, -1.5503e-01, -1.6990e+00,  5.1215e-01],\n",
      "         [ 1.3413e-01, -2.6505e-01, -4.6126e-01, -5.5805e-01, -2.1330e-01,\n",
      "          -5.1828e-01,  8.0204e-01,  9.7081e-02, -1.0180e+00,  3.8146e-01,\n",
      "           6.4845e-01,  3.5014e-01, -3.0909e-01, -1.1687e+00,  7.3926e-01]]],\n",
      "       grad_fn=<ViewBackward0>)\n"
     ]
    }
   ],
   "source": [
    "batch_size = 4  # Number of examples in the batch\n",
    "sequence_length = 3  # Length of the sequence for each example (e.g. \"I love dogs\"), assuming \"I love dogs\" would result in three tokens: \"I\", \"love\", \"dogs\"\n",
    "embedding_dimension = 5  # Dimension of the embedding space\n",
    "\n",
    "# Create a sample tensor with random values\n",
    "input_tensor = torch.randn(batch_size, sequence_length, embedding_dimension)\n",
    "print(\"\\n\\nInput tensor \\n\\n\", input_tensor)\n",
    "\n",
    "B, T, C = input_tensor.size()\n",
    "\n",
    "# In a second step we are going to use a linear layer with three times the embedding dimension.\n",
    "lin_layer = nn.Linear(embedding_dimension, 3 * embedding_dimension)\n",
    "qkv = lin_layer(input_tensor)\n",
    "print(\"\\n\\nWeights linear layer \\n\\n\", lin_layer.weight)\n",
    "\n",
    "print(\"\\n\\nqkv tensor \\n\\n\", qkv)\n",
    "q, k, v = qkv.split(embedding_dimension, dim=2)"
   ]
  },
  {
   "cell_type": "code",
   "execution_count": 32,
   "metadata": {},
   "outputs": [
    {
     "data": {
      "text/plain": [
       "tensor([[[[-0.9911,  0.9753, -0.7692, -1.1579,  0.2402],\n",
       "          [ 0.3976, -0.6163,  0.4847,  0.2252, -0.1138],\n",
       "          [-0.8723,  0.2586, -0.5428, -0.3633,  0.8454]]],\n",
       "\n",
       "\n",
       "        [[[ 0.5515, -0.3368,  0.6662,  0.0460, -0.8434],\n",
       "          [-0.2009,  0.1522,  0.2214,  0.0523, -0.2482],\n",
       "          [-0.0440,  0.4607,  0.0848, -0.9409,  0.0018]]],\n",
       "\n",
       "\n",
       "        [[[-0.1466, -0.1997,  0.0312, -0.3804,  0.5951],\n",
       "          [ 0.2301,  0.0933,  0.4414, -0.1020, -0.6204],\n",
       "          [-0.4054,  0.5986, -0.0323, -0.7513,  0.2790]]],\n",
       "\n",
       "\n",
       "        [[[-0.1281, -0.0597,  0.2834, -0.1052,  0.3549],\n",
       "          [-0.7024,  0.4551, -0.3988, -0.5213,  0.3105],\n",
       "          [-0.5183,  0.8020,  0.0971, -1.0180,  0.3815]]]],\n",
       "       grad_fn=<TransposeBackward0>)"
      ]
     },
     "execution_count": 32,
     "metadata": {},
     "output_type": "execute_result"
    }
   ],
   "source": [
    "n_head = 1\n",
    "# B = batch\n",
    "# T = sequence length\n",
    "# head = number of heads\n",
    "# C = embedding dimension --> The tensor k is being split into head smaller chunks. This is a common step in multi-head attention, where the input is projected into multiple subspaces corresponding to different heads.\n",
    "k = k.view(B, T, n_head, C // n_head).transpose(1, 2) # transpose starts from zero. Hence, we are transposing T and head.\n",
    "q = q.view(B, T, n_head, C // n_head).transpose(1, 2)\n",
    "v = v.view(B, T, n_head, C // n_head).transpose(1, 2)\n",
    "k"
   ]
  },
  {
   "cell_type": "markdown",
   "metadata": {},
   "source": [
    "#E4 - Attention"
   ]
  },
  {
   "cell_type": "code",
   "execution_count": 33,
   "metadata": {},
   "outputs": [
    {
     "name": "stdout",
     "output_type": "stream",
     "text": [
      "torch.Size([4, 1, 3, 5]) torch.Size([4, 1, 3, 5]) torch.Size([4, 1, 3, 5])\n",
      "tensor([[[[ 0.7386,  0.3196, -0.4828, -1.6039, -0.4774],\n",
      "          [-0.2326, -0.3628,  0.2475,  0.8140,  0.2911],\n",
      "          [ 0.7139, -0.2919, -0.3052, -0.0276,  0.2217]]],\n",
      "\n",
      "\n",
      "        [[[-0.5773, -0.1191, -0.1254, -0.0835, -0.1791],\n",
      "          [-0.3661, -0.5406, -0.3913, -0.2963, -0.4727],\n",
      "          [-0.0191, -0.0440,  0.4980, -0.4911, -0.5011]]],\n",
      "\n",
      "\n",
      "        [[[ 0.4436, -0.1647,  0.1024,  0.6348,  0.5979],\n",
      "          [-0.6577, -0.4084,  0.1820, -0.3703, -0.7721],\n",
      "          [ 0.0265, -0.3461,  0.1169, -0.4435, -0.5044]]],\n",
      "\n",
      "\n",
      "        [[[-0.0688, -0.5827, -0.0550,  0.5402,  0.1298],\n",
      "          [ 0.4236, -0.1266, -0.3879, -0.6427, -0.1940],\n",
      "          [ 0.1341, -0.2651, -0.4613, -0.5580, -0.2133]]]],\n",
      "       grad_fn=<TransposeBackward0>)\n",
      "\n",
      "\n",
      "\n",
      "tensor([[[[-0.9911,  0.3976, -0.8723],\n",
      "          [ 0.9753, -0.6163,  0.2586],\n",
      "          [-0.7692,  0.4847, -0.5428],\n",
      "          [-1.1579,  0.2252, -0.3633],\n",
      "          [ 0.2402, -0.1138,  0.8454]]],\n",
      "\n",
      "\n",
      "        [[[ 0.5515, -0.2009, -0.0440],\n",
      "          [-0.3368,  0.1522,  0.4607],\n",
      "          [ 0.6662,  0.2214,  0.0848],\n",
      "          [ 0.0460,  0.0523, -0.9409],\n",
      "          [-0.8434, -0.2482,  0.0018]]],\n",
      "\n",
      "\n",
      "        [[[-0.1466,  0.2301, -0.4054],\n",
      "          [-0.1997,  0.0933,  0.5986],\n",
      "          [ 0.0312,  0.4414, -0.0323],\n",
      "          [-0.3804, -0.1020, -0.7513],\n",
      "          [ 0.5951, -0.6204,  0.2790]]],\n",
      "\n",
      "\n",
      "        [[[-0.1281, -0.7024, -0.5183],\n",
      "          [-0.0597,  0.4551,  0.8020],\n",
      "          [ 0.2834, -0.3988,  0.0971],\n",
      "          [-0.1052, -0.5213, -1.0180],\n",
      "          [ 0.3549,  0.3105,  0.3815]]]], grad_fn=<TransposeBackward0>)\n"
     ]
    }
   ],
   "source": [
    "# Dimensions of the tensors: batch, sequence length, number of heads, embedding dimension (i.e. the embedding)\n",
    "print(q.shape, k.shape, v.shape)\n",
    "\n",
    "\n",
    "print(q)\n",
    "print(\"\\n\\n\")\n",
    "print(k.transpose(-2, -1))\n",
    "\n",
    "# What happens is that the transformation allows us to multiply the q and k tensors.\n"
   ]
  },
  {
   "cell_type": "code",
   "execution_count": 34,
   "metadata": {},
   "outputs": [
    {
     "name": "stdout",
     "output_type": "stream",
     "text": [
      "tensor([[[-0.9911,  0.9753, -0.7692, -1.1579,  0.2402],\n",
      "         [ 0.3976, -0.6163,  0.4847,  0.2252, -0.1138],\n",
      "         [-0.8723,  0.2586, -0.5428, -0.3633,  0.8454]]],\n",
      "       grad_fn=<SelectBackward0>), \n",
      "\n",
      " tensor([[[-0.9911,  0.3976, -0.8723],\n",
      "         [ 0.9753, -0.6163,  0.2586],\n",
      "         [-0.7692,  0.4847, -0.5428],\n",
      "         [-1.1579,  0.2252, -0.3633],\n",
      "         [ 0.2402, -0.1138,  0.8454]]], grad_fn=<SelectBackward0>)\n"
     ]
    }
   ],
   "source": [
    "# Check batches 0\n",
    "# This transformation allows us to multiply the q and k tensors.\n",
    "print(f\"{k[0]}, \\n\\n {k.transpose(-2, -1)[0]}\")\n",
    "\n",
    "# The @ operator is used for matrix multiplication.\n",
    "# k.size(-1) is the length of the embeddings.\n",
    "att = (q @ k.transpose(-2, -1)) * (1.0 / math.sqrt(k.size(-1)))"
   ]
  },
  {
   "cell_type": "markdown",
   "metadata": {},
   "source": [
    "# E5 - Mask"
   ]
  },
  {
   "cell_type": "code",
   "execution_count": 35,
   "metadata": {},
   "outputs": [
    {
     "name": "stdout",
     "output_type": "stream",
     "text": [
      "tensor([[[[ 0.7574,    -inf,    -inf],\n",
      "          [-0.5305,  0.1794,    -inf],\n",
      "          [-0.3007,  0.1272, -0.1499]]],\n",
      "\n",
      "\n",
      "        [[[-0.0960,    -inf,    -inf],\n",
      "          [ 0.0467,  0.0029,    -inf],\n",
      "          [ 0.3292,  0.0922,  0.2164]]],\n",
      "\n",
      "\n",
      "        [[[ 0.0382,    -inf,    -inf],\n",
      "          [-0.0604,  0.1823,    -inf],\n",
      "          [-0.0280,  0.1716, -0.0131]]],\n",
      "\n",
      "\n",
      "        [[[ 0.0077,    -inf,    -inf],\n",
      "          [-0.0706,  0.0333,    -inf],\n",
      "          [-0.0667,  0.0867,  0.0715]]]], grad_fn=<MaskedFillBackward0>)\n"
     ]
    }
   ],
   "source": [
    "\n",
    "# We now apply the mask and set.\n",
    "# We replace values with '-inf' where the mask is zero.\n",
    "# While mask has the dimensions of the the sequence length we define in the overall setting (e.g. 1024)\n",
    "# It automatically adapts to the sequence length of the current batch (e.g. attn)\n",
    "att = att.masked_fill(mask=mask[:, :, :T, :T] == 0, value=float('-inf'))\n",
    "print(att)"
   ]
  },
  {
   "cell_type": "markdown",
   "metadata": {},
   "source": [
    "# E6 - Merging\n",
    "\n",
    "### Step 1 - Check for contigiousy\n",
    "Contiguous Memory:  `[   Book 1   ] [   Book 2   ] [   Book 3   ] [   Book 4   ] [   Book 5   ]`\n",
    "\n",
    "Non-Contiguous Memory:  `[         ] [   Book 3   ] [         ] [   Book 1   ] [   Book 2   ]`\n",
    "\n",
    "Think of `.contiguous()` as a librarian who reorganizes the books on the shelf:\n",
    "`[   Book 1   ] [   Book 2   ] [   Book 3   ] [   Book 4   ] [   Book 5   ]`\n",
    "\n",
    "### Step 2 - Merging the `heads`\n",
    "We started out with `n_head`. In reality we would use several heads to capture different different \"perspectives\".\n",
    "In order to merge the 'heads' we apply .view(B, T, C) to our originally four-dimensional tensor (B, T, n_heads, C).\n",
    "We are essentially flattening (combining) the elements in the fourth dimension into the existing dimensions (B, T, C)."
   ]
  },
  {
   "cell_type": "code",
   "execution_count": 36,
   "metadata": {},
   "outputs": [
    {
     "name": "stdout",
     "output_type": "stream",
     "text": [
      "tensor([[[ 1.2305,  0.8814, -0.9152, -2.4855,  0.9535],\n",
      "         [-0.1131, -0.2692, -0.0322, -0.1630,  0.5519],\n",
      "         [ 0.2572, -0.0327,  0.0725, -0.8466,  0.6060]],\n",
      "\n",
      "        [[-0.8941, -0.7697, -0.5080,  0.7747,  0.1445],\n",
      "         [-0.5946, -0.6445, -0.2587,  0.0802, -0.0661],\n",
      "         [-0.3868, -0.4224, -0.3479,  0.2394,  0.2676]],\n",
      "\n",
      "        [[ 0.1617, -0.1020,  0.4303, -0.1301,  1.0464],\n",
      "         [-0.3197, -0.4304,  0.0063,  0.3000,  0.3765],\n",
      "         [-0.1145, -0.2716, -0.0230,  0.0534,  0.4297]],\n",
      "\n",
      "        [[-0.1615, -0.4460,  0.5462, -0.0688,  0.3058],\n",
      "         [ 0.2518, -0.0812,  0.1774, -0.9262,  0.4143],\n",
      "         [ 0.3955,  0.0739,  0.0032, -1.0233,  0.5286]]],\n",
      "       grad_fn=<ViewBackward0>)\n",
      "tensor([[[-0.0579, -0.1446, -0.1626, -0.6017,  2.0666],\n",
      "         [ 0.5001, -0.1250, -0.2764,  0.1458,  0.4454],\n",
      "         [ 0.4394, -0.2966, -0.2468,  0.0471,  0.7320]],\n",
      "\n",
      "        [[ 0.4326,  0.2188, -0.2668,  0.1565,  0.0176],\n",
      "         [ 0.3576, -0.0469, -0.2393,  0.1365,  0.1449],\n",
      "         [ 0.3954,  0.0587, -0.2948,  0.1632,  0.3028]],\n",
      "\n",
      "        [[ 0.7383, -0.2661, -0.3227,  0.2865,  0.4574],\n",
      "         [ 0.5311, -0.0721, -0.3201,  0.2960,  0.1787],\n",
      "         [ 0.4848, -0.1012, -0.3244,  0.2571,  0.3459]],\n",
      "\n",
      "        [[ 0.6331, -0.3860, -0.3084,  0.4041,  0.0736],\n",
      "         [ 0.4165, -0.3787, -0.2473,  0.0942,  0.6524],\n",
      "         [ 0.3609, -0.3092, -0.2557,  0.0281,  0.8388]]],\n",
      "       grad_fn=<ViewBackward0>)\n"
     ]
    }
   ],
   "source": [
    "att = F.softmax(att, dim=-1)\n",
    "y = att @ v # matrix multiplication attention * values\n",
    "y = y.transpose(1, 2).contiguous().view(B, T, C)\n",
    "print(y)\n",
    "c_proj = nn.Linear(embedding_dimension, embedding_dimension)\n",
    "y = c_proj(y)\n",
    "\n",
    "print(y)"
   ]
  },
  {
   "cell_type": "code",
   "execution_count": 37,
   "metadata": {},
   "outputs": [
    {
     "name": "stdout",
     "output_type": "stream",
     "text": [
      "torch.Size([4, 3, 5]) torch.Size([4, 3, 5])\n"
     ]
    }
   ],
   "source": [
    "# When we compare the shape of the output tensor with the input tensor, we see that the dimensions are the same.\n",
    "# batch_size=4, sequence_length=3, embedding_dimension=5\n",
    "print(input_tensor.shape, y.shape)"
   ]
  },
  {
   "cell_type": "markdown",
   "metadata": {},
   "source": [
    "# E7 - Stacking blocks"
   ]
  },
  {
   "cell_type": "code",
   "execution_count": null,
   "metadata": {},
   "outputs": [
    {
     "name": "stdout",
     "output_type": "stream",
     "text": [
      "['test', 'test', 'test']\n"
     ]
    }
   ],
   "source": [
    "# Instead of 'test' the origial code uses the class Block(config)\n",
    "# This leads to a list with n.layers of blocks. E.g. n.layer = 3 --> 3 blocks stacked on each other\n",
    "# In the original code we inititaite the blocks with the config n times (range(n))\n",
    "blocks = ['test' for _ in range(3)]\n",
    "print(blocks)"
   ]
  },
  {
   "cell_type": "markdown",
   "metadata": {},
   "source": [
    "# E8 - ModuleDict\n",
    "\n",
    "`ModuleDict` allows to create a dict with layers as items.\n",
    "It therefore allows us to store a collection of modules in a single object."
   ]
  },
  {
   "cell_type": "code",
   "execution_count": 1,
   "metadata": {},
   "outputs": [
    {
     "name": "stdout",
     "output_type": "stream",
     "text": [
      "Output shape: torch.Size([3, 100])\n"
     ]
    }
   ],
   "source": [
    "import torch\n",
    "import torch.nn as nn\n",
    "\n",
    "class MyModel(nn.Module):\n",
    "    def __init__(self):\n",
    "        super().__init__()\n",
    "        self.layers = nn.ModuleDict({\n",
    "            'lin1': nn.Linear(5, 20),  # Input size is 5, output size is 20\n",
    "            'lin2': nn.Linear(20, 100),  # Input size is 20, output size is 3\n",
    "        })\n",
    "\n",
    "    def forward(self, x):\n",
    "        x = self.layers['lin1'](x)\n",
    "        x = self.layers['lin2'](x)\n",
    "        return x\n",
    "\n",
    "# Dummy tensor\n",
    "dummy_input = torch.randn(3, 5)  # Batch size of 3, input size of 5\n",
    "\n",
    "model = MyModel()\n",
    "output = model(dummy_input)\n",
    "print(\"Output shape:\", output.shape)"
   ]
  },
  {
   "cell_type": "markdown",
   "metadata": {},
   "source": [
    "# E9 - Positional Embeddings"
   ]
  },
  {
   "cell_type": "code",
   "execution_count": 40,
   "metadata": {},
   "outputs": [
    {
     "name": "stdout",
     "output_type": "stream",
     "text": [
      "tensor(1) [ 0.6777694  -1.5703939   1.3001819  -0.8920295  -0.18858036]\n"
     ]
    }
   ],
   "source": [
    "import numpy as np\n",
    "\n",
    "block_size = 200 # The maximum length of the input sequence\n",
    "n_embd = 5\n",
    "T = 100 # Sequence length\n",
    "\n",
    "# Arrange returns a 1D tensor with values from the start (0 in this case) to the end (T), excluding T.\n",
    "# it's similar to Python’s built-in range function but returns a tensor instead of a list.\n",
    "pos = torch.arange(start=0, end=T, step=1, dtype=torch.long, device='cpu') # Shape (T)\n",
    "wpe = nn.Embedding(block_size, n_embd)\n",
    "pos_emd = wpe(pos)\n",
    "\n",
    "numpy_array = pos_emd.detach().numpy()\n",
    "\n",
    "# The the number '1' is embedded into a 5-dimensional vector.\n",
    "print(pos[1], numpy_array[1])"
   ]
  },
  {
   "cell_type": "markdown",
   "metadata": {},
   "source": [
    "# E10 - Regular Embeddings"
   ]
  },
  {
   "cell_type": "code",
   "execution_count": 41,
   "metadata": {},
   "outputs": [
    {
     "name": "stdout",
     "output_type": "stream",
     "text": [
      "[40, 588, 6844, 0]\n"
     ]
    },
    {
     "data": {
      "text/plain": [
       "tensor([[ 0.3620, -1.2837, -0.3968,  0.6417,  0.1096],\n",
       "        [-0.4312,  1.9651,  0.2502,  2.1025, -0.0606],\n",
       "        [ 1.6636,  0.5339,  2.7540, -0.9897, -0.3627],\n",
       "        [ 0.0473,  0.4471,  0.3962, -0.1315,  0.4331]],\n",
       "       grad_fn=<SelectBackward0>)"
      ]
     },
     "execution_count": 41,
     "metadata": {},
     "output_type": "execute_result"
    }
   ],
   "source": [
    "import tiktoken\n",
    "\n",
    "enc = tiktoken.get_encoding('gpt2')\n",
    "tokens = enc.encode(\"I like dogs!\")\n",
    "print(tokens) # Check tokens created here: https://tiktokenizer.vercel.app/?model=gpt2\n",
    "\n",
    "tokens = torch.tensor(tokens, dtype=torch.long).unsqueeze(0)  # Shape: (1, 8)\n",
    "\n",
    "n_embd = 64  # Adjust embedding dimension as needed\n",
    "wte = nn.Embedding(50257, 5) # 50257 is the number of tokens in the GPT-2 vocabulary. This needs to match.\n",
    "embeddings = wte(tokens)  # Shape: (1, 8, n_embd)\n",
    "\n",
    "embeddings[0]\n"
   ]
  },
  {
   "cell_type": "markdown",
   "metadata": {},
   "source": [
    "# E11 - Multinomal distribution\n",
    "\n",
    "I case we have a set of probabilities a multinomal distribution can help to introduce some randomness.\n",
    "We see, for example, that p=0.8 is not picked 80% of the time. In context of a LLM we want to introduce some randomness:\n",
    "If we only choose the most probable token at each step this would leading to repetitive and predictable text."
   ]
  },
  {
   "cell_type": "code",
   "execution_count": 42,
   "metadata": {},
   "outputs": [
    {
     "name": "stdout",
     "output_type": "stream",
     "text": [
      "[[14 11 75]\n",
      " [11 11 78]\n",
      " [ 9  8 83]\n",
      " [13 12 75]\n",
      " [13 14 73]]\n"
     ]
    }
   ],
   "source": [
    "from scipy.stats import multinomial\n",
    "\n",
    "# Parameters:\n",
    "n = 100  # number of trials\n",
    "p = [0.1, 0.1, 0.8]  # probabilities of each outcome\n",
    "\n",
    "# Generate random samples\n",
    "samples = multinomial.rvs(n, p, size=5)  # Generate 10 samples\n",
    "\n",
    "print(samples)"
   ]
  },
  {
   "cell_type": "markdown",
   "metadata": {},
   "source": [
    "# E12 - Weight tying\n",
    "\n",
    "Weight tying works by reducing the redundancy between the embedding and output layers in a neural network. This reduction leads to fewer parameters, faster training, and better generalization, making the model more efficient and effective, especially for language-related tasks."
   ]
  },
  {
   "cell_type": "code",
   "execution_count": null,
   "metadata": {},
   "outputs": [
    {
     "name": "stdout",
     "output_type": "stream",
     "text": [
      "tensor([[0., 0., 0., 0., 0., 0., 0., 0., 0., 0., 0., 0., 0., 0., 0., 0., 0., 0., 0., 0.],\n",
      "        [0., 0., 0., 0., 0., 0., 0., 0., 0., 0., 0., 0., 0., 0., 0., 0., 0., 0., 0., 0.],\n",
      "        [0., 0., 0., 0., 0., 0., 0., 0., 0., 0., 0., 0., 0., 0., 0., 0., 0., 0., 0., 0.],\n",
      "        [0., 0., 0., 0., 0., 0., 0., 0., 0., 0., 0., 0., 0., 0., 0., 0., 0., 0., 0., 0.],\n",
      "        [0., 0., 0., 0., 0., 0., 0., 0., 0., 0., 0., 0., 0., 0., 0., 0., 0., 0., 0., 0.],\n",
      "        [0., 0., 0., 0., 0., 0., 0., 0., 0., 0., 0., 0., 0., 0., 0., 0., 0., 0., 0., 0.],\n",
      "        [0., 0., 0., 0., 0., 0., 0., 0., 0., 0., 0., 0., 0., 0., 0., 0., 0., 0., 0., 0.],\n",
      "        [0., 0., 0., 0., 0., 0., 0., 0., 0., 0., 0., 0., 0., 0., 0., 0., 0., 0., 0., 0.],\n",
      "        [0., 0., 0., 0., 0., 0., 0., 0., 0., 0., 0., 0., 0., 0., 0., 0., 0., 0., 0., 0.],\n",
      "        [0., 0., 0., 0., 0., 0., 0., 0., 0., 0., 0., 0., 0., 0., 0., 0., 0., 0., 0., 0.],\n",
      "        [0., 0., 0., 0., 0., 0., 0., 0., 0., 0., 0., 0., 0., 0., 0., 0., 0., 0., 0., 0.],\n",
      "        [0., 0., 0., 0., 0., 0., 0., 0., 0., 0., 0., 0., 0., 0., 0., 0., 0., 0., 0., 0.],\n",
      "        [0., 0., 0., 0., 0., 0., 0., 0., 0., 0., 0., 0., 0., 0., 0., 0., 0., 0., 0., 0.],\n",
      "        [0., 0., 0., 0., 0., 0., 0., 0., 0., 0., 0., 0., 0., 0., 0., 0., 0., 0., 0., 0.],\n",
      "        [0., 0., 0., 0., 0., 0., 0., 0., 0., 0., 0., 0., 0., 0., 0., 0., 0., 0., 0., 0.],\n",
      "        [0., 0., 0., 0., 0., 0., 0., 0., 0., 0., 0., 0., 0., 0., 0., 0., 0., 0., 0., 0.],\n",
      "        [0., 0., 0., 0., 0., 0., 0., 0., 0., 0., 0., 0., 0., 0., 0., 0., 0., 0., 0., 0.],\n",
      "        [0., 0., 0., 0., 0., 0., 0., 0., 0., 0., 0., 0., 0., 0., 0., 0., 0., 0., 0., 0.],\n",
      "        [0., 0., 0., 0., 0., 0., 0., 0., 0., 0., 0., 0., 0., 0., 0., 0., 0., 0., 0., 0.],\n",
      "        [0., 0., 0., 0., 0., 0., 0., 0., 0., 0., 0., 0., 0., 0., 0., 0., 0., 0., 0., 0.]],\n",
      "       grad_fn=<SubBackward0>)\n"
     ]
    }
   ],
   "source": [
    "import torch\n",
    "import torch.nn as nn\n",
    "\n",
    "class MyModel(nn.Module):\n",
    "    def __init__(self):\n",
    "        super().__init__()\n",
    "        self.layers = nn.ModuleDict({\n",
    "            'lin1': nn.Linear(20, 20),  # Input size is 5, output size is 20\n",
    "            'lin2': nn.Linear(20, 20),  # Input size is 20, output size is 3\n",
    "        })\n",
    "\n",
    "        # Tye the weights of the second linear layer to the weights of the first linear layer.\n",
    "        self.layers.lin2.weight = self.layers.lin1.weight\n",
    "\n",
    "    def forward(self, x):\n",
    "        x = self.layers['lin1'](x)\n",
    "        x = self.layers['lin2'](x)\n",
    "        return x\n",
    "\n",
    "\n",
    "\n",
    "# Dummy tensor\n",
    "dummy_input = torch.randn(3, 20)  # Batch size of 3, input size of 5\n",
    "\n",
    "model = MyModel()\n",
    "output = model(dummy_input)\n",
    "\n",
    "print(model.layers['lin1'].weight - model.layers['lin2'].weight)"
   ]
  },
  {
   "cell_type": "markdown",
   "metadata": {},
   "source": [
    "# E12 - weight sharing\n",
    "\n",
    "# TODO"
   ]
  },
  {
   "cell_type": "markdown",
   "metadata": {},
   "source": [
    "# E13 - Residual stream\n",
    "\n",
    "The residual stream adds the input of an layer to its output.<br>\n",
    "We are not talking about weights here. We are talking about the acutal- in and outputs.\n",
    "<br>\n",
    "\n",
    "Example:<br>\n",
    "`attn_output, _ = self.attention(x, x, x)`<br>\n",
    "`x = x + attn_output # Residual connection: add the input 'x' back to the output`<br>\n",
    "`x = self.norm1(x)`<br>\n",
    "\n",
    "<br>\n",
    "The problem with this approch is an explosion of the deviation of the output."
   ]
  },
  {
   "cell_type": "markdown",
   "metadata": {},
   "source": [
    "<img src=\"images/res.png\" alt=\"Alt text\" width=\"200\"/>"
   ]
  },
  {
   "cell_type": "code",
   "execution_count": 43,
   "metadata": {},
   "outputs": [
    {
     "name": "stdout",
     "output_type": "stream",
     "text": [
      "tensor(8.2054)\n",
      "tensor(0.9007)\n"
     ]
    }
   ],
   "source": [
    "x = torch.zeros(30)\n",
    "n = 100\n",
    "for i in range(n):\n",
    "    # We create random values with mean 0 and standard deviation 1.\n",
    "    x += torch.randn(30)\n",
    "# Just after 100 interations the std moved to >10!\n",
    "print(x.std())\n",
    "\n",
    "# We can fix this by dividing the sum by the square root of the number of iterations.\n",
    "x = torch.zeros(30)\n",
    "for i in range(n):\n",
    "    x += n**-0.5 * torch.randn(30)\n",
    "print(x.std())"
   ]
  },
  {
   "cell_type": "markdown",
   "metadata": {},
   "source": [
    "# E14 - Quantization\n",
    "\n",
    "Quantization is used to speed up training time and work more memory efficient.\n",
    "It works as follows:\n",
    "\n",
    "<img src=\"images/prec2.png\" alt=\"Alt text\" width=\"400\"/>\n",
    "\n",
    "Different procedures are available with `TF32` being the gold standard for training.\n",
    "\n",
    "<img src=\"images/prec1.png\" alt=\"Alt text\" width=\"400\"/>\n",
    "\n",
    "What is missing here is sign (0 for positive and 1 for negative)"
   ]
  },
  {
   "cell_type": "markdown",
   "metadata": {},
   "source": []
  },
  {
   "cell_type": "markdown",
   "metadata": {},
   "source": [
    "### `.unsqueeze()`"
   ]
  },
  {
   "cell_type": "code",
   "execution_count": 44,
   "metadata": {},
   "outputs": [
    {
     "name": "stdout",
     "output_type": "stream",
     "text": [
      "torch.Size([6])\n",
      "torch.Size([1, 6])\n"
     ]
    },
    {
     "data": {
      "text/plain": [
       "tensor([[ 101, 2009, 2003, 1037, 3722,  102],\n",
       "        [ 101, 2009, 2003, 1037, 3722,  102],\n",
       "        [ 101, 2009, 2003, 1037, 3722,  102],\n",
       "        [ 101, 2009, 2003, 1037, 3722,  102],\n",
       "        [ 101, 2009, 2003, 1037, 3722,  102]])"
      ]
     },
     "execution_count": 44,
     "metadata": {},
     "output_type": "execute_result"
    }
   ],
   "source": [
    "\"\"\"\n",
    "Adds a new dimension to the tensor at the specified position. In this case, 0 indicates that the new dimension will be added at the beginning.\n",
    "Adding this extra dimension is often necessary for batching in PyTorch. Transformer models expect input tensors to have a specific shape, typically [batch_size, sequence_length].\n",
    "By unsqueezing the tensor, we create a batch dimension, even if there's only one sequence in the batch.\n",
    "\"\"\"\n",
    "\n",
    "tokens = [101, 2009, 2003, 1037, 3722, 102]\n",
    "tens = torch.tensor(tokens)\n",
    "\n",
    "# The shape of the tensor is (6,) because it's a 1D tensor with 6 elements.\n",
    "# For our model we need a batch dimension, so we add a dimension at the beginning.\n",
    "print(tens.shape)\n",
    "\n",
    "tens2 = tens.unsqueeze(0)\n",
    "print(tens2.shape)\n",
    "\n",
    "# Repeat the tensor 5 times along the first dimension\n",
    "tens.unsqueeze(0).repeat(5, 1)"
   ]
  },
  {
   "cell_type": "markdown",
   "metadata": {},
   "source": [
    "### `@classmethod`"
   ]
  },
  {
   "cell_type": "code",
   "execution_count": 45,
   "metadata": {},
   "outputs": [
    {
     "name": "stdout",
     "output_type": "stream",
     "text": [
      "Woof!\n",
      "Miau!\n",
      "Can't call method without instance\n"
     ]
    }
   ],
   "source": [
    "class Dog():\n",
    "    def bark(self):\n",
    "        print(\"Woof!\")\n",
    "\n",
    "\n",
    "class Cat():\n",
    "    @classmethod\n",
    "    def miau(self):\n",
    "        print(\"Miau!\")\n",
    "\n",
    "# Using the Dog class to create an instance of a dog and call the bark method\n",
    "doggi = Dog()\n",
    "doggi.bark()\n",
    "\n",
    "# While the Dog class has an instance method, the Cat class has a class method.\n",
    "# This means that the Cat class method can be called without creating an instance of the class.\n",
    "Cat.miau()\n",
    "try:\n",
    "    Dog.bark()\n",
    "except:\n",
    "    print(\"Can't call method without instance\")"
   ]
  },
  {
   "cell_type": "markdown",
   "metadata": {},
   "source": [
    "### `state_dict()`\n",
    "\n",
    "`state_dict()` returns the different model layers.\n",
    "\n",
    "h.# stand for the individual heads."
   ]
  },
  {
   "cell_type": "code",
   "execution_count": 46,
   "metadata": {},
   "outputs": [
    {
     "name": "stdout",
     "output_type": "stream",
     "text": [
      "Model information: GPT2Config {\n",
      "  \"_name_or_path\": \"gpt2\",\n",
      "  \"activation_function\": \"gelu_new\",\n",
      "  \"architectures\": [\n",
      "    \"GPT2LMHeadModel\"\n",
      "  ],\n",
      "  \"attn_pdrop\": 0.1,\n",
      "  \"bos_token_id\": 50256,\n",
      "  \"embd_pdrop\": 0.1,\n",
      "  \"eos_token_id\": 50256,\n",
      "  \"initializer_range\": 0.02,\n",
      "  \"layer_norm_epsilon\": 1e-05,\n",
      "  \"model_type\": \"gpt2\",\n",
      "  \"n_ctx\": 1024,\n",
      "  \"n_embd\": 768,\n",
      "  \"n_head\": 12,\n",
      "  \"n_inner\": null,\n",
      "  \"n_layer\": 12,\n",
      "  \"n_positions\": 1024,\n",
      "  \"reorder_and_upcast_attn\": false,\n",
      "  \"resid_pdrop\": 0.1,\n",
      "  \"scale_attn_by_inverse_layer_idx\": false,\n",
      "  \"scale_attn_weights\": true,\n",
      "  \"summary_activation\": null,\n",
      "  \"summary_first_dropout\": 0.1,\n",
      "  \"summary_proj_to_labels\": true,\n",
      "  \"summary_type\": \"cls_index\",\n",
      "  \"summary_use_proj\": true,\n",
      "  \"task_specific_params\": {\n",
      "    \"text-generation\": {\n",
      "      \"do_sample\": true,\n",
      "      \"max_length\": 50\n",
      "    }\n",
      "  },\n",
      "  \"transformers_version\": \"4.41.2\",\n",
      "  \"use_cache\": true,\n",
      "  \"vocab_size\": 50257\n",
      "}\n",
      "\n",
      "Number of heads: 12\n",
      "Number of layers: 12\n",
      "transformer.wte.weight torch.Size([50257, 768])\n",
      "transformer.wpe.weight torch.Size([1024, 768])\n",
      "transformer.h.0.ln_1.weight torch.Size([768])\n",
      "transformer.h.0.ln_1.bias torch.Size([768])\n",
      "transformer.h.0.attn.c_attn.weight torch.Size([768, 2304])\n",
      "transformer.h.0.attn.c_attn.bias torch.Size([2304])\n",
      "transformer.h.0.attn.c_proj.weight torch.Size([768, 768])\n",
      "transformer.h.0.attn.c_proj.bias torch.Size([768])\n",
      "transformer.h.0.ln_2.weight torch.Size([768])\n",
      "transformer.h.0.ln_2.bias torch.Size([768])\n",
      "transformer.h.0.mlp.c_fc.weight torch.Size([768, 3072])\n",
      "transformer.h.0.mlp.c_fc.bias torch.Size([3072])\n",
      "transformer.h.0.mlp.c_proj.weight torch.Size([3072, 768])\n",
      "transformer.h.0.mlp.c_proj.bias torch.Size([768])\n",
      "transformer.h.1.ln_1.weight torch.Size([768])\n",
      "transformer.h.1.ln_1.bias torch.Size([768])\n",
      "transformer.h.1.attn.c_attn.weight torch.Size([768, 2304])\n",
      "transformer.h.1.attn.c_attn.bias torch.Size([2304])\n",
      "transformer.h.1.attn.c_proj.weight torch.Size([768, 768])\n",
      "transformer.h.1.attn.c_proj.bias torch.Size([768])\n",
      "transformer.h.1.ln_2.weight torch.Size([768])\n",
      "transformer.h.1.ln_2.bias torch.Size([768])\n",
      "transformer.h.1.mlp.c_fc.weight torch.Size([768, 3072])\n",
      "transformer.h.1.mlp.c_fc.bias torch.Size([3072])\n",
      "transformer.h.1.mlp.c_proj.weight torch.Size([3072, 768])\n",
      "transformer.h.1.mlp.c_proj.bias torch.Size([768])\n",
      "transformer.h.2.ln_1.weight torch.Size([768])\n",
      "transformer.h.2.ln_1.bias torch.Size([768])\n",
      "transformer.h.2.attn.c_attn.weight torch.Size([768, 2304])\n",
      "transformer.h.2.attn.c_attn.bias torch.Size([2304])\n",
      "transformer.h.2.attn.c_proj.weight torch.Size([768, 768])\n",
      "transformer.h.2.attn.c_proj.bias torch.Size([768])\n",
      "transformer.h.2.ln_2.weight torch.Size([768])\n",
      "transformer.h.2.ln_2.bias torch.Size([768])\n",
      "transformer.h.2.mlp.c_fc.weight torch.Size([768, 3072])\n",
      "transformer.h.2.mlp.c_fc.bias torch.Size([3072])\n",
      "transformer.h.2.mlp.c_proj.weight torch.Size([3072, 768])\n",
      "transformer.h.2.mlp.c_proj.bias torch.Size([768])\n",
      "transformer.h.3.ln_1.weight torch.Size([768])\n",
      "transformer.h.3.ln_1.bias torch.Size([768])\n",
      "transformer.h.3.attn.c_attn.weight torch.Size([768, 2304])\n",
      "transformer.h.3.attn.c_attn.bias torch.Size([2304])\n",
      "transformer.h.3.attn.c_proj.weight torch.Size([768, 768])\n",
      "transformer.h.3.attn.c_proj.bias torch.Size([768])\n",
      "transformer.h.3.ln_2.weight torch.Size([768])\n",
      "transformer.h.3.ln_2.bias torch.Size([768])\n",
      "transformer.h.3.mlp.c_fc.weight torch.Size([768, 3072])\n",
      "transformer.h.3.mlp.c_fc.bias torch.Size([3072])\n",
      "transformer.h.3.mlp.c_proj.weight torch.Size([3072, 768])\n",
      "transformer.h.3.mlp.c_proj.bias torch.Size([768])\n",
      "transformer.h.4.ln_1.weight torch.Size([768])\n",
      "transformer.h.4.ln_1.bias torch.Size([768])\n",
      "transformer.h.4.attn.c_attn.weight torch.Size([768, 2304])\n",
      "transformer.h.4.attn.c_attn.bias torch.Size([2304])\n",
      "transformer.h.4.attn.c_proj.weight torch.Size([768, 768])\n",
      "transformer.h.4.attn.c_proj.bias torch.Size([768])\n",
      "transformer.h.4.ln_2.weight torch.Size([768])\n",
      "transformer.h.4.ln_2.bias torch.Size([768])\n",
      "transformer.h.4.mlp.c_fc.weight torch.Size([768, 3072])\n",
      "transformer.h.4.mlp.c_fc.bias torch.Size([3072])\n",
      "transformer.h.4.mlp.c_proj.weight torch.Size([3072, 768])\n",
      "transformer.h.4.mlp.c_proj.bias torch.Size([768])\n",
      "transformer.h.5.ln_1.weight torch.Size([768])\n",
      "transformer.h.5.ln_1.bias torch.Size([768])\n",
      "transformer.h.5.attn.c_attn.weight torch.Size([768, 2304])\n",
      "transformer.h.5.attn.c_attn.bias torch.Size([2304])\n",
      "transformer.h.5.attn.c_proj.weight torch.Size([768, 768])\n",
      "transformer.h.5.attn.c_proj.bias torch.Size([768])\n",
      "transformer.h.5.ln_2.weight torch.Size([768])\n",
      "transformer.h.5.ln_2.bias torch.Size([768])\n",
      "transformer.h.5.mlp.c_fc.weight torch.Size([768, 3072])\n",
      "transformer.h.5.mlp.c_fc.bias torch.Size([3072])\n",
      "transformer.h.5.mlp.c_proj.weight torch.Size([3072, 768])\n",
      "transformer.h.5.mlp.c_proj.bias torch.Size([768])\n",
      "transformer.h.6.ln_1.weight torch.Size([768])\n",
      "transformer.h.6.ln_1.bias torch.Size([768])\n",
      "transformer.h.6.attn.c_attn.weight torch.Size([768, 2304])\n",
      "transformer.h.6.attn.c_attn.bias torch.Size([2304])\n",
      "transformer.h.6.attn.c_proj.weight torch.Size([768, 768])\n",
      "transformer.h.6.attn.c_proj.bias torch.Size([768])\n",
      "transformer.h.6.ln_2.weight torch.Size([768])\n",
      "transformer.h.6.ln_2.bias torch.Size([768])\n",
      "transformer.h.6.mlp.c_fc.weight torch.Size([768, 3072])\n",
      "transformer.h.6.mlp.c_fc.bias torch.Size([3072])\n",
      "transformer.h.6.mlp.c_proj.weight torch.Size([3072, 768])\n",
      "transformer.h.6.mlp.c_proj.bias torch.Size([768])\n",
      "transformer.h.7.ln_1.weight torch.Size([768])\n",
      "transformer.h.7.ln_1.bias torch.Size([768])\n",
      "transformer.h.7.attn.c_attn.weight torch.Size([768, 2304])\n",
      "transformer.h.7.attn.c_attn.bias torch.Size([2304])\n",
      "transformer.h.7.attn.c_proj.weight torch.Size([768, 768])\n",
      "transformer.h.7.attn.c_proj.bias torch.Size([768])\n",
      "transformer.h.7.ln_2.weight torch.Size([768])\n",
      "transformer.h.7.ln_2.bias torch.Size([768])\n",
      "transformer.h.7.mlp.c_fc.weight torch.Size([768, 3072])\n",
      "transformer.h.7.mlp.c_fc.bias torch.Size([3072])\n",
      "transformer.h.7.mlp.c_proj.weight torch.Size([3072, 768])\n",
      "transformer.h.7.mlp.c_proj.bias torch.Size([768])\n",
      "transformer.h.8.ln_1.weight torch.Size([768])\n",
      "transformer.h.8.ln_1.bias torch.Size([768])\n",
      "transformer.h.8.attn.c_attn.weight torch.Size([768, 2304])\n",
      "transformer.h.8.attn.c_attn.bias torch.Size([2304])\n",
      "transformer.h.8.attn.c_proj.weight torch.Size([768, 768])\n",
      "transformer.h.8.attn.c_proj.bias torch.Size([768])\n",
      "transformer.h.8.ln_2.weight torch.Size([768])\n",
      "transformer.h.8.ln_2.bias torch.Size([768])\n",
      "transformer.h.8.mlp.c_fc.weight torch.Size([768, 3072])\n",
      "transformer.h.8.mlp.c_fc.bias torch.Size([3072])\n",
      "transformer.h.8.mlp.c_proj.weight torch.Size([3072, 768])\n",
      "transformer.h.8.mlp.c_proj.bias torch.Size([768])\n",
      "transformer.h.9.ln_1.weight torch.Size([768])\n",
      "transformer.h.9.ln_1.bias torch.Size([768])\n",
      "transformer.h.9.attn.c_attn.weight torch.Size([768, 2304])\n",
      "transformer.h.9.attn.c_attn.bias torch.Size([2304])\n",
      "transformer.h.9.attn.c_proj.weight torch.Size([768, 768])\n",
      "transformer.h.9.attn.c_proj.bias torch.Size([768])\n",
      "transformer.h.9.ln_2.weight torch.Size([768])\n",
      "transformer.h.9.ln_2.bias torch.Size([768])\n",
      "transformer.h.9.mlp.c_fc.weight torch.Size([768, 3072])\n",
      "transformer.h.9.mlp.c_fc.bias torch.Size([3072])\n",
      "transformer.h.9.mlp.c_proj.weight torch.Size([3072, 768])\n",
      "transformer.h.9.mlp.c_proj.bias torch.Size([768])\n",
      "transformer.h.10.ln_1.weight torch.Size([768])\n",
      "transformer.h.10.ln_1.bias torch.Size([768])\n",
      "transformer.h.10.attn.c_attn.weight torch.Size([768, 2304])\n",
      "transformer.h.10.attn.c_attn.bias torch.Size([2304])\n",
      "transformer.h.10.attn.c_proj.weight torch.Size([768, 768])\n",
      "transformer.h.10.attn.c_proj.bias torch.Size([768])\n",
      "transformer.h.10.ln_2.weight torch.Size([768])\n",
      "transformer.h.10.ln_2.bias torch.Size([768])\n",
      "transformer.h.10.mlp.c_fc.weight torch.Size([768, 3072])\n",
      "transformer.h.10.mlp.c_fc.bias torch.Size([3072])\n",
      "transformer.h.10.mlp.c_proj.weight torch.Size([3072, 768])\n",
      "transformer.h.10.mlp.c_proj.bias torch.Size([768])\n",
      "transformer.h.11.ln_1.weight torch.Size([768])\n",
      "transformer.h.11.ln_1.bias torch.Size([768])\n",
      "transformer.h.11.attn.c_attn.weight torch.Size([768, 2304])\n",
      "transformer.h.11.attn.c_attn.bias torch.Size([2304])\n",
      "transformer.h.11.attn.c_proj.weight torch.Size([768, 768])\n",
      "transformer.h.11.attn.c_proj.bias torch.Size([768])\n",
      "transformer.h.11.ln_2.weight torch.Size([768])\n",
      "transformer.h.11.ln_2.bias torch.Size([768])\n",
      "transformer.h.11.mlp.c_fc.weight torch.Size([768, 3072])\n",
      "transformer.h.11.mlp.c_fc.bias torch.Size([3072])\n",
      "transformer.h.11.mlp.c_proj.weight torch.Size([3072, 768])\n",
      "transformer.h.11.mlp.c_proj.bias torch.Size([768])\n",
      "transformer.ln_f.weight torch.Size([768])\n",
      "transformer.ln_f.bias torch.Size([768])\n",
      "lm_head.weight torch.Size([50257, 768])\n"
     ]
    }
   ],
   "source": [
    "from transformers import GPT2LMHeadModel\n",
    "\n",
    "model_hf = GPT2LMHeadModel.from_pretrained(\"gpt2\") # Load the GPT-2 model\n",
    "sd_hf = model_hf.state_dict() # State dict are the raw tensors\n",
    "\n",
    "print(\"Model information:\", model_hf.config)\n",
    "print(\"Number of heads:\", model_hf.config.num_attention_heads)\n",
    "print(\"Number of layers:\", model_hf.config.num_hidden_layers)\n",
    "\n",
    "for k, v in sd_hf.items():\n",
    "    print(k, v.shape)"
   ]
  },
  {
   "cell_type": "code",
   "execution_count": 47,
   "metadata": {},
   "outputs": [
    {
     "name": "stdout",
     "output_type": "stream",
     "text": [
      "torch.Size([1024, 768])\n"
     ]
    },
    {
     "data": {
      "text/plain": [
       "tensor([-1.8821e-02, -1.9742e-01,  4.0267e-03,  1.1347e-02,  6.3824e-02,\n",
       "        -1.0501e-01,  3.6937e-02, -1.6803e-01, -4.9111e-02, -5.6461e-02,\n",
       "        -2.4560e-03,  1.3503e-02, -4.1711e-03,  1.5115e-02,  1.6595e-02,\n",
       "        -1.3808e-01, -6.3314e-03, -4.6150e-02,  2.6675e-02, -2.0417e-01,\n",
       "         1.3454e-02, -3.6267e-02,  1.9301e-02, -2.5931e-02,  8.0243e-03,\n",
       "         8.4712e-03, -1.9906e-02,  6.6802e-02,  7.1151e-03, -2.6618e-02,\n",
       "         2.0829e-02, -3.3732e-02, -8.2898e-03,  9.8622e-03, -2.7369e-02,\n",
       "        -9.9118e-02, -7.5254e-01,  2.3550e-02, -3.0513e-02,  7.7456e-02,\n",
       "         3.4301e-03,  7.1132e-03,  2.6479e-02, -1.2113e-03,  1.1219e-01,\n",
       "        -2.0606e-03, -2.2458e-02, -2.2287e-02,  2.3570e-02,  3.9777e-01,\n",
       "         1.8856e-02,  2.0280e-02,  6.3043e-01,  2.3146e-02, -4.6894e-02,\n",
       "         4.0653e+00, -1.7403e-02, -5.1683e-02,  7.2271e-02, -7.9312e-02,\n",
       "         4.0248e-02,  1.9908e-02, -4.6380e-02, -2.8380e-02,  7.2535e-03,\n",
       "         2.6772e-02,  1.4972e-03, -2.9892e-01, -1.1627e-01,  9.1860e-03,\n",
       "        -2.3379e-02,  7.8674e-02,  3.6326e-02, -4.1279e-02,  3.5415e-02,\n",
       "         2.6852e-02,  3.7368e-04,  4.5535e-03,  2.5672e-02, -3.8062e-02,\n",
       "         1.5198e-02, -1.1324e-03, -3.6556e-02, -9.6938e-03, -7.7945e-02,\n",
       "        -5.0139e-02, -1.0231e+00, -1.2559e-02, -1.8484e-03,  6.6347e-02,\n",
       "         1.1819e-03, -3.3319e-02, -1.1513e-01,  2.1627e-02, -4.3646e-02,\n",
       "        -1.1303e-02, -7.7890e-03,  1.6647e-02, -7.2352e-03,  1.0707e-02,\n",
       "         1.3787e-02, -3.7777e-02, -1.2361e-01, -1.7224e-01, -1.8045e-02,\n",
       "         6.3456e-03, -4.8349e-02,  4.1328e-01, -1.0673e-03, -1.1704e-02,\n",
       "         1.6934e-02,  3.2545e-03, -2.3711e-02,  5.9829e-02, -5.9910e-02,\n",
       "        -1.4971e-02, -8.3736e-01, -3.8427e-02, -7.6987e-03,  4.9164e-02,\n",
       "         2.3555e-02, -5.3212e-02,  1.8699e-03, -1.5544e-01,  6.5622e-02,\n",
       "         5.2014e-03, -1.3533e-02,  2.8135e-02, -1.0581e-01,  5.5449e-02,\n",
       "         3.4420e-02,  1.4542e-02,  1.7542e-02, -2.5723e-03, -1.6590e-03,\n",
       "         1.6827e-02, -3.0037e-02, -1.1984e-01,  8.1251e-02, -4.5297e-01,\n",
       "         1.6045e-02,  4.2054e-03,  3.4240e-02, -2.0139e-02, -3.2975e-02,\n",
       "        -5.1996e-02, -3.6392e-02, -1.1540e-02,  2.2939e-02,  7.3400e-02,\n",
       "        -4.6437e-02, -8.2206e-02, -1.3095e-02,  1.5196e-02,  1.6183e-01,\n",
       "        -5.1890e-02,  4.9133e-02,  5.4630e-03, -3.1565e-02, -2.2381e-02,\n",
       "        -1.6066e-01,  2.7186e-02,  3.3445e-02, -2.9198e-02,  3.6843e-02,\n",
       "         1.0586e-03,  2.1095e-02,  6.4639e-02, -2.7470e-02,  8.8352e-02,\n",
       "         5.5776e-02, -2.3872e-02, -1.2993e-02, -2.6942e-04,  1.0038e-01,\n",
       "        -9.2795e-02, -7.9185e-01, -4.2195e-02,  2.4330e-02, -1.9673e-02,\n",
       "        -2.2679e-02,  1.3850e-02, -2.0604e-02,  9.8258e-02,  3.8011e-02,\n",
       "         2.3985e-02,  2.6789e-02,  3.1317e-02, -1.0934e-02, -7.4405e-02,\n",
       "        -4.1879e-02, -7.8305e-03, -9.1414e-02,  1.4571e-01, -2.2372e-02,\n",
       "        -7.4952e-02,  3.6658e-02,  4.8322e-03,  1.1366e-02,  7.7893e-02,\n",
       "        -5.3751e-02, -1.1380e-02, -1.0407e-02, -1.5257e-02,  3.0442e-02,\n",
       "        -5.0440e-03,  2.6727e-02,  5.8141e-03, -3.8137e-02,  1.3994e-02,\n",
       "        -2.9547e-03,  4.7238e-02,  5.7311e-02,  6.8433e-02, -4.4144e-02,\n",
       "         4.0254e-03,  3.9776e-02, -3.2052e-02,  2.8832e-02, -2.5070e-02,\n",
       "        -3.2514e-03, -7.3319e-02,  5.0036e-02, -7.9418e-02, -1.7448e-02,\n",
       "        -6.5178e-03,  8.9161e-03,  1.6941e-02,  2.8391e-02,  1.0850e-02,\n",
       "         1.5500e-02, -1.5806e-02, -1.5287e-02, -2.9555e-02, -4.0786e-02,\n",
       "        -5.6020e-02, -3.3106e-02,  3.6305e-02, -5.9147e-03, -5.6259e-03,\n",
       "        -3.0364e-03,  1.1340e-01,  2.6560e-02,  1.6906e-03,  1.5023e-02,\n",
       "        -3.3559e-02,  1.6866e-02, -3.8061e-02,  7.5497e-03,  1.0009e-02,\n",
       "         2.3764e-02,  3.2676e-02, -8.4955e-03,  8.1304e-03, -6.6838e-02,\n",
       "         6.7926e-02, -3.7586e-02,  4.8547e-02,  8.3520e-02,  2.8259e-02,\n",
       "         6.7701e-03, -9.8969e-02,  1.6984e-02,  1.0438e-02, -4.1560e-02,\n",
       "         9.8130e-03, -3.7107e-03,  1.7649e-02, -2.9944e-02,  1.1517e-02,\n",
       "         2.1170e+00,  8.0320e-01, -2.7883e-02, -2.5582e-02, -2.4898e-02,\n",
       "         2.4827e-02, -3.8706e-01,  3.0922e-02,  5.3630e-02, -2.1325e-02,\n",
       "        -1.7633e-02,  1.4735e-02, -1.3573e-02,  9.3698e-02,  6.3691e-02,\n",
       "        -8.5184e-03, -3.6612e-02,  1.6177e-02, -4.6694e-01,  6.3364e-01,\n",
       "        -6.5773e-02,  5.9070e-02,  4.0830e-02,  3.7846e-02,  2.1491e-02,\n",
       "        -1.2280e-02,  2.3577e-02,  6.6729e-03,  2.7811e-02, -6.1744e-02,\n",
       "         3.0685e+00, -1.8870e-02,  1.8418e-02, -5.8950e-04, -3.9127e-02,\n",
       "        -1.2742e-02, -3.3234e-02,  4.1388e-03, -2.1280e-01,  3.9684e-02,\n",
       "         2.4262e-02,  1.7842e-01, -4.1642e-04, -5.5655e-02, -3.9652e-02,\n",
       "         3.6324e-02, -3.6439e-04,  3.3898e-02,  3.8444e-02,  3.1045e-02,\n",
       "         1.6215e-01,  1.9416e-02,  3.9075e-02, -7.9726e-02, -3.5166e-02,\n",
       "        -6.1327e-02, -9.5163e-02, -1.3732e-02, -2.8533e-02, -3.2208e-02,\n",
       "         5.1764e-02,  5.1271e-02,  1.3170e-02, -2.8410e-02,  1.9225e-02,\n",
       "        -6.1447e-02,  9.4512e-02,  1.7898e-02,  3.3249e-02, -8.4298e-02,\n",
       "        -1.6876e-03,  2.2678e-02,  3.8959e-02, -2.6315e-02,  2.6722e-02,\n",
       "        -4.1036e-02, -4.3836e-02,  7.2811e-03,  2.3958e-02,  2.5368e-02,\n",
       "         7.1948e-02, -2.8513e-01,  6.8697e-03, -3.6890e-02, -2.6570e-03,\n",
       "        -2.4861e-02, -2.1709e+00, -7.5174e-02, -3.7429e-02,  4.7887e-02,\n",
       "         2.3458e-02, -9.0910e-01,  2.8369e-01, -7.7521e-03,  2.6658e-02,\n",
       "        -5.5254e-01, -2.5945e-02, -2.3110e-02,  3.5670e-02, -3.8938e-02,\n",
       "         6.3535e-02,  2.6753e-02,  3.8857e-02, -7.1311e-03, -5.0512e-01,\n",
       "        -8.4332e-02, -8.9942e-03, -9.6385e-01, -1.9003e-01, -1.6461e-02,\n",
       "         1.5758e-02, -2.9520e-02, -3.7219e-02,  2.6768e-02,  7.8288e-02,\n",
       "         3.6225e-02, -2.4597e-02, -9.8554e-03,  1.7192e-02,  2.0096e-01,\n",
       "         4.9101e-02,  1.9576e-02, -4.3461e-03,  9.6674e-02, -2.8922e-02,\n",
       "         1.3446e-02, -1.8345e-02,  5.6624e-02,  1.7636e-02,  8.8476e-03,\n",
       "        -2.3983e-02, -4.1040e-02, -3.5934e-01,  1.3422e-02, -1.9759e-02,\n",
       "         5.2325e-02, -2.6986e-02,  5.4985e-03, -1.2450e-01, -1.7049e-03,\n",
       "         3.3860e-04, -4.5541e-02, -2.4598e-02, -1.8265e-02, -7.3527e-03,\n",
       "         5.3070e-02,  2.5912e-02, -4.8607e-02,  3.5768e-02, -2.2845e-02,\n",
       "        -3.4739e-01, -3.7481e-02, -8.0708e-03,  7.6596e-02, -4.2530e-02,\n",
       "         4.2420e-02,  4.8602e-02,  2.1992e-02,  1.1385e-01, -2.4760e-02,\n",
       "        -9.0741e-02,  1.1689e-02,  9.7670e-02,  6.2420e-02,  8.3420e-04,\n",
       "         5.7120e-02, -3.3638e-03,  4.3362e-02,  6.4554e-03,  4.3409e-01,\n",
       "        -2.8289e-02,  8.4534e-03,  1.6225e-01,  2.1655e-02,  5.4778e-02,\n",
       "         3.3466e-02,  1.0512e-02,  6.3881e-03, -1.7619e-02, -3.7032e-02,\n",
       "        -5.3927e-02, -2.1898e-02,  2.0860e-02,  4.2955e-01,  2.8156e-02,\n",
       "        -3.0496e-01, -5.0267e-02,  3.3228e-02, -1.9458e-03,  4.3604e-01,\n",
       "         1.2594e-02,  1.6785e-03,  3.2018e-02, -1.1435e-02,  3.0255e-02,\n",
       "        -2.8112e-02,  4.1541e-03, -2.9137e-02, -5.2214e-02, -7.5817e-02,\n",
       "        -5.0438e-03,  3.8585e-03,  9.9854e-02, -2.6922e-02,  9.8854e-03,\n",
       "        -7.0485e-03, -5.8754e-03,  2.7603e-02,  9.0747e-02, -8.6773e-01,\n",
       "        -2.5373e-02,  9.3951e-03,  4.5241e-03,  2.1289e-02, -1.7936e-02,\n",
       "        -3.6137e-02, -2.0088e-02, -1.9245e-02,  1.3789e-01,  3.2350e-02,\n",
       "         4.9784e-02,  7.1033e-03,  2.4016e-02, -4.6873e-04,  1.0043e-02,\n",
       "        -1.8570e-02, -1.9425e-01,  2.0531e-01,  4.4722e-02, -4.8765e-02,\n",
       "         3.0511e-02,  1.5151e-04,  1.1109e-02, -1.5149e+00,  2.5688e-02,\n",
       "         7.3238e-03,  4.4182e-02, -1.5863e-02, -6.9036e-02,  9.6258e-03,\n",
       "         2.1722e-02,  3.8190e-01,  1.3655e-02, -3.3429e-02,  3.3138e-02,\n",
       "        -1.7596e-02,  1.2354e-02, -9.8003e-02,  1.7169e-02,  3.9591e-02,\n",
       "         4.0094e-02, -3.8441e-02,  7.1837e-02, -3.8313e-03, -3.9395e-02,\n",
       "        -2.5580e-01, -4.1298e-02, -2.0359e-01, -9.5320e-01,  2.5642e-02,\n",
       "         9.2723e-03,  3.7339e-02,  3.6342e-02, -7.0528e-03, -6.5394e-02,\n",
       "         1.2265e-02,  1.0122e-02,  1.1549e-02, -1.8140e-02,  6.1482e-03,\n",
       "         1.7135e+00, -3.5519e-02, -5.0767e-02,  7.6745e-03,  2.9331e-02,\n",
       "         3.0430e-03, -3.1479e-02, -1.2568e-02, -2.1320e-02,  2.1707e-02,\n",
       "         1.8987e-02, -8.8883e-01,  1.2125e-02,  2.6438e-02,  2.0943e-01,\n",
       "         3.2970e-02,  6.6763e-02,  3.3256e-02, -3.2825e-02, -1.2005e-01,\n",
       "        -4.9361e-02,  5.1311e-02, -3.3480e-02,  9.5489e-03,  6.4813e-02,\n",
       "        -2.4486e-02, -2.7666e-01,  4.9428e-04,  4.4311e-02, -1.4237e-02,\n",
       "        -1.6418e-02,  1.8140e-02,  8.0819e-02,  1.3806e-02,  2.2750e-03,\n",
       "        -2.3704e-02,  3.5261e-02,  7.6599e-03,  3.8602e-02,  6.6556e-03,\n",
       "        -1.7804e-02,  1.3549e+00,  1.9752e-02, -3.4907e-02,  6.4030e-03,\n",
       "        -6.0518e-02,  6.0842e-02, -1.7444e-02,  1.0880e-01, -1.8750e-02,\n",
       "        -1.0402e-02, -6.6880e-03, -7.7606e-03, -2.2134e-02,  1.2712e-02,\n",
       "        -1.2865e-02, -3.5302e-02, -1.6899e-03,  6.8769e-03,  2.6735e-02,\n",
       "         3.6005e-02,  2.0541e-03, -4.8858e-02, -5.8962e-02, -4.0852e-02,\n",
       "        -1.1628e-02,  1.2221e-02, -1.7475e-02,  2.4019e-01, -2.5707e-02,\n",
       "         1.1639e-02, -7.5646e-03, -2.8997e-03, -1.0732e-02, -1.1266e-01,\n",
       "         1.8306e-01, -9.5816e-03,  9.0851e-02, -4.1114e-02, -4.6769e-02,\n",
       "        -1.4158e-02,  2.6344e-02,  6.5998e-01, -5.0159e-01,  6.4231e-02,\n",
       "         6.2835e-03, -3.3330e-02, -1.6098e+00,  3.8070e-02,  1.1026e-02,\n",
       "        -2.5894e-02,  6.1403e-03,  4.6618e-02,  2.7380e-02, -3.2654e-02,\n",
       "         2.3865e-02, -2.8636e-02,  2.9206e-03, -3.3496e-03,  2.7162e-02,\n",
       "         1.9196e-01, -6.2142e-02,  2.1860e-02,  2.7283e-01,  3.2564e-02,\n",
       "         9.9084e-03, -3.1970e-02,  3.6526e-02,  2.2737e-02, -1.8527e-01,\n",
       "        -8.3985e-03, -3.7638e-02,  2.2447e-02,  2.3149e-02,  4.9008e-03,\n",
       "        -4.9940e-01, -5.8577e-02,  1.3585e-02, -5.3179e-02,  8.9382e-03,\n",
       "        -2.9503e-02,  1.1848e-02, -6.9815e-03,  1.5438e-02, -6.4257e-02,\n",
       "        -8.2343e-02, -8.6457e-02, -7.3714e-02,  1.6764e-02,  6.2733e-02,\n",
       "         3.0075e+00,  2.3481e-03, -8.1105e-03,  3.6314e-02, -4.5381e+00,\n",
       "         3.0046e-02, -4.3590e-03,  1.9305e-03, -1.9914e-02, -1.3940e+00,\n",
       "         8.5825e-02,  1.5078e-03, -3.5813e-02, -2.5510e-02,  8.1946e-02,\n",
       "        -3.9880e-02, -4.3724e-03,  4.6706e-02, -7.5673e-02, -5.7956e-02,\n",
       "        -4.0163e-02,  8.6380e-03, -1.8892e-02,  1.2066e-02,  7.1348e-02,\n",
       "         3.0804e-02,  3.5332e-02, -3.0011e-02, -4.6266e-03, -3.0416e-01,\n",
       "         7.3280e-03, -3.6848e-01,  1.8192e-02,  2.1566e-02,  2.4931e-02,\n",
       "        -3.1073e-02,  9.5428e-05, -1.1928e-01, -1.5507e-03, -2.4268e-01,\n",
       "        -8.4555e-03, -1.3348e-02,  1.5365e-03,  6.2889e-03,  1.3201e-02,\n",
       "         1.5080e-02, -3.1683e-03,  6.8163e-02, -7.9179e-01, -4.6202e-03,\n",
       "         9.1074e-01, -1.6140e-01,  1.3297e-02,  6.4707e-03,  1.4513e+00,\n",
       "         5.0443e-02,  1.4084e-01,  1.5878e-02,  3.4399e-01, -8.5022e-03,\n",
       "        -5.8426e-03, -1.0584e-02,  5.1128e-02,  3.6588e-02,  3.8108e-02,\n",
       "        -4.0882e-02, -3.5466e-02, -1.0839e-02,  2.4481e-03, -2.0107e-01,\n",
       "         6.0284e-03,  4.9156e-02, -2.1477e-02, -2.4268e-03, -9.1521e-03,\n",
       "         3.4912e-01, -1.5139e-01, -7.5483e-02,  2.2206e-02, -6.1442e-03,\n",
       "        -6.3152e-03,  9.7740e-02,  1.3022e-02,  1.3445e-02,  2.6431e-02,\n",
       "        -3.6497e-02, -1.5883e+00, -6.3216e-02, -4.6221e-02, -2.8667e-02,\n",
       "         5.4453e-02, -5.2860e-02,  2.5602e-03, -8.4281e-03,  3.3671e-03,\n",
       "        -4.3044e-02,  2.8267e-02,  5.4490e-02])"
      ]
     },
     "execution_count": 47,
     "metadata": {},
     "output_type": "execute_result"
    }
   ],
   "source": [
    "# Inspect a singular layer\n",
    "\n",
    "# We get a context length `n_ctx` of 1024 tokens with am embedding dimension of 768 per token.\n",
    "print(sd_hf[\"transformer.wpe.weight\"].shape)\n",
    "\n",
    "# The first element of the tensor is the embedding for the first token.\n",
    "sd_hf[\"transformer.wpe.weight\"][0]\n",
    "\n"
   ]
  },
  {
   "cell_type": "markdown",
   "metadata": {},
   "source": [
    "# Flash attention (Fa) [E14]\n",
    "\n",
    "Fa is a kernel fusion algorithm. Fa needs more flops than the regular procedure but it's way more mindful of the memory (reads and writes).<br>\n",
    "\n",
    "<img src=\"images/flash.png\" alt=\"Alt text\" width=\"800\"/><br><br>\n",
    "\n",
    "\n",
    "Our original code looks like this:\n",
    "\n",
    "<code>\n",
    "att = (q @ k.transpose(-2, -1)) * (1.0 / math.sqrt(k.size(-1)))<br>\n",
    "att = att.masked_fill(self.bias[:, :, :T, :T] == 0, float('-inf')<br>\n",
    "att = F.softmax(att, dim=-1)<br>\n",
    "y = att @ v\n",
    "</code>\n",
    "\n",
    "<br>\n",
    "\n",
    "Instead we are using:\n",
    "\n",
    "`F.scaled_dot_product_attention(q, k, v, is_causal=True)`\n",
    "\n"
   ]
  },
  {
   "cell_type": "markdown",
   "metadata": {},
   "source": [
    "# E14 - Gradient clipping\n",
    "\n",
    "## Intuition\n",
    "GC is used to limit the size of a gradient. If gradient become to large:\n",
    "\n",
    "- Exploding Gradients: When the gradients are too large, they can cause the model's weights to update excessively, leading to unstable training. The loss might start to fluctuate wildly or even become NaN (not a number).\n",
    "\n",
    "- Divergence: If the updates to the weights are too large, the model may never converge, meaning it won’t learn properly and might get stuck in a bad state.\n",
    "\n",
    "## Computational approach\n",
    "\n",
    "**Calculates the L2 Norm for Each Vector**: For each vector it computes:\n",
    "\n",
    "$||\\mathbf{v}||_2 = \\sqrt{x_1^2 + x_2^2 + \\ldots + x_n^2}$\n",
    "\n",
    "Imagine plotting a vector: \n",
    "\n",
    "$\\mathbf{v} = (3, 4)$<br><br>\n",
    "$||\\mathbf{v}||_2 = \\sqrt{3^2 + 4^2} = \\sqrt{9 + 16} = 5$<br><br>\n",
    "$\\mathbf{v}_{\\text{normalized}} = \\left(\\frac{3}{5}, \\frac{4}{5}\\right) = (0.6, 0.8)$<br><br>\n",
    "\n",
    "If we calculate the L2 norm of the normalized vector. We get 1.\n",
    "<br>\n",
    "\n",
    "$\\sqrt{0.6^2 + 0.8^2} = \\sqrt{0.36 + 0.64} = 1$\n"
   ]
  },
  {
   "cell_type": "code",
   "execution_count": 57,
   "metadata": {},
   "outputs": [
    {
     "name": "stdout",
     "output_type": "stream",
     "text": [
      "[ 0.49671415 -0.1382643 ] [0.51559865]\n",
      "0.9633736512703545 -0.2681626522057565\n"
     ]
    },
    {
     "data": {
      "image/png": "[encoded data removed]",
      "text/plain": [
       "<Figure size 600x300 with 2 Axes>"
      ]
     },
     "metadata": {},
     "output_type": "display_data"
    }
   ],
   "source": [
    "import numpy as np\n",
    "import matplotlib.pyplot as plt\n",
    "\n",
    "# Step 1: Generate Random Vectors\n",
    "np.random.seed(42)  # For reproducibility\n",
    "vectors = np.random.randn(100, 2)  # Generate 100 random 2D vectors\n",
    "\n",
    "# Step 2: Plot the Original Distribution\n",
    "plt.figure(figsize=(6, 3))\n",
    "plt.subplot(1, 2, 1)\n",
    "plt.scatter(vectors[:, 0], vectors[:, 1], color='blue', alpha=0.6)\n",
    "plt.title('Original Vectors')\n",
    "plt.xlabel('X1')\n",
    "plt.ylabel('X2')\n",
    "plt.grid(True)\n",
    "\n",
    "# Step 3: Apply L2 Norm\n",
    "norms = np.linalg.norm(vectors, axis=1, keepdims=True)\n",
    "print(vectors[0], norms[0])\n",
    "\n",
    "def l2_norm(x):\n",
    "    norm = (x[0]**2 + x[1]**2)**0.5\n",
    "    return x[0] / norm, x[1] / norm\n",
    "\n",
    "a, b = l2_norm(vectors[0])\n",
    "print(a, b)\n",
    "\n",
    "normalized_vectors = vectors / norms  # Normalize each vector by its L2 norm\n",
    "\n",
    "# Step 4: Plot the Normalized Vectors\n",
    "plt.subplot(1, 2, 2)\n",
    "plt.scatter(normalized_vectors[:, 0], normalized_vectors[:, 1], color='red', alpha=0.6)\n",
    "plt.title('Normalized Vectors (L2 Norm)')\n",
    "plt.xlabel('X1')\n",
    "plt.ylabel('X2')\n",
    "plt.grid(True)\n",
    "\n",
    "# Show both plots\n",
    "plt.tight_layout()\n",
    "plt.show()"
   ]
  },
  {
   "cell_type": "markdown",
   "metadata": {},
   "source": [
    "# E15 - Learning rate decay\n",
    "\n",
    "TODO - explain details\n",
    "\n",
    "<img src=\"images/dec.png\" alt=\"Alt text\" width=\"800\"/><br><br>"
   ]
  },
  {
   "cell_type": "markdown",
   "metadata": {},
   "source": [
    "In the context of training neural networks, particularly when configuring optimizers, it’s important to distinguish between different types of parameters based on their dimensionality. The distinction we make in the code:\n",
    "\n",
    "<code>\n",
    "decay_params = [p for n, p in param_dict.items() if p.dim() >= 2] <br>\n",
    "nodecay_params = [p for n, p in param_dict.items() if p.dim() < 2]\n",
    "</code>\n",
    "\n",
    " focuses on whether parameters are weight tensors (2D) or biases and normalization parameters (1D). Here’s a breakdown of why this distinction is important:\n",
    "\n",
    "### Understanding Parameter Types\n",
    "#### Weight Tensors (2D):\n",
    "These are the parameters that involve matrix operations, such as those used in fully connected (dense) layers and convolutional layers.\n",
    "They are typically represented as 2D tensors (matrices) where:\n",
    "The first dimension usually corresponds to the number of input features.\n",
    "The second dimension corresponds to the number of output features.\n",
    "#### Biases and LayerNorm Parameters (1D):\n",
    "Bias parameters are typically 1D tensors. Each neuron usually has a bias term that is a scalar (1D) added to the weighted sum of inputs.\n",
    "Layer normalization parameters are also 1D because they operate across a single dimension (the feature dimension)."
   ]
  },
  {
   "cell_type": "markdown",
   "metadata": {},
   "source": [
    "# E16 - Kernel Fusion\n",
    "Kernel fusion is a performance optimization technique commonly used in GPU programming, especially in frameworks like CUDA or machine learning libraries such as PyTorch and TensorFlow. It involves combining multiple computational operations (kernels) into a single kernel to reduce overhead and improve the efficiency of parallel processing on the GPU.\n",
    "\n",
    "### Why is Kernel Fusion Important?\n",
    "When multiple kernels are executed on a GPU, there are various costs associated with:\n",
    "\n",
    "- Kernel Launch Overhead: Every time a kernel is launched, there is some overhead, even if the kernel is relatively simple.\n",
    "- Memory Access: Separate kernels might require redundant reads and writes to memory, increasing memory bandwidth usage.\n",
    "- Global Synchronization: Each kernel needs to synchronize with the rest of the program, leading to performance losses.\n",
    "\n",
    "### By fusing kernels, we can:\n",
    "\n",
    "- Reduce the number of kernel launches.\n",
    "- Lower memory access overhead by eliminating redundant memory operations.\n",
    "- Keep data in shared memory or registers instead of writing it back to global memory between kernels.\n"
   ]
  },
  {
   "cell_type": "code",
   "execution_count": 121,
   "metadata": {},
   "outputs": [],
   "source": [
    "# Example for kernel fusion\n",
    "\n",
    "# Instead of running two operations separately, we can combine them into a single operation.\n",
    "def k1(a, b):\n",
    "    c = a + b\n",
    "    return c\n",
    "\n",
    "def k2(c):\n",
    "    d = c*c\n",
    "\n",
    "for a in range(1000):\n",
    "    for b in range(1000):\n",
    "        k2(k1(a, b))\n",
    "\n",
    "# The kernel fusion is done by combining the two operations into a single operation.\n",
    "def kf(a, b):\n",
    "    d = (a + b)**2\n",
    "\n",
    "for a in range(1000):\n",
    "    for b in range(1000):\n",
    "        kf(a, b)"
   ]
  },
  {
   "cell_type": "markdown",
   "metadata": {},
   "source": [
    "# E17 - Gradient accumulation\n",
    "\n",
    "Gradient accumulation is a technique used in deep learning to simulate a larger batch size when memory limitations prevent using large batches. Instead of updating the model parameters after every mini-batch (which is standard in most training routines), gradient accumulation collects gradients over several mini-batches and updates the model only after a specified number of mini-batches (or steps).\n",
    "\n",
    "By using GA we can simulate every arbitrary batch size.\n",
    "\n",
    "### How its handled in Pytorch\n",
    "\n",
    "- Gradient Accumulation: In PyTorch, gradients are accumulated rather than overwritten when calling loss.backward(). This means if you call loss.backward() multiple times before updating the model's weights, the gradients from each call will be summed. This behavior is key when performing gradient accumulation in training (i.e., accumulating gradients over several mini-batches).\n",
    "\n",
    "- Optimizer Step: Once the gradients are accumulated, calling optimizer.step() updates the parameters of the model using the accumulated gradients. The optimizer updates the parameters based on the chosen optimization algorithm (e.g., SGD, Adam, etc.).\n",
    "\n",
    "- Clearing Gradients: After the optimizer.step() call, you typically call optimizer.zero_grad() to clear the gradients in each parameter. This ensures that the gradients from the next batch of data are calculated independently and not added to the previously accumulated gradients.\n",
    "\n"
   ]
  },
  {
   "cell_type": "markdown",
   "metadata": {},
   "source": [
    "# Discussion"
   ]
  },
  {
   "cell_type": "markdown",
   "metadata": {},
   "source": [
    "### D1\n",
    "\n",
    "Every head captures a different dimension. We split the embedding by the number of heads:\n",
    "\n",
    "1) `k = k.view(B, T, self.n_head, C // self.n_head).transpose(1, 2)`\n",
    "\n",
    "We need to do so as we concatonate the final attention matrices afterwards:\n",
    "\n",
    "2) `y = y.transpose(1, 2).contiguous().view(B, T, C)`\n",
    "\n",
    "We see in #2 that we transpose the tensor `y` from four to three dimensions. The transformation to three dimensions merges the `h` Attention matrices."
   ]
  },
  {
   "cell_type": "markdown",
   "metadata": {},
   "source": [
    "<img src=\"images/trans_head.jpg\" alt=\"Alt text\" width=\"300\"/>"
   ]
  },
  {
   "cell_type": "markdown",
   "metadata": {},
   "source": []
  },
  {
   "cell_type": "code",
   "execution_count": 166,
   "metadata": {},
   "outputs": [
    {
     "name": "stdout",
     "output_type": "stream",
     "text": [
      "[[11  6 83]\n",
      " [ 8  9 83]\n",
      " [13 15 72]\n",
      " [ 9 11 80]\n",
      " [17  9 74]\n",
      " [13 14 73]\n",
      " [10 13 77]\n",
      " [12  9 79]\n",
      " [12 12 76]\n",
      " [ 9  8 83]]\n"
     ]
    }
   ],
   "source": [
    "import numpy as np\n",
    "from scipy.stats import multinomial\n",
    "\n",
    "# Parameters:\n",
    "n = 100  # number of trials\n",
    "p = [0.1, 0.1, 0.8]  # probabilities of each outcome\n",
    "\n",
    "# Generate random samples\n",
    "samples = multinomial.rvs(n, p, size=10)  # Generate 10 samples\n",
    "\n",
    "print(samples)\n"
   ]
  },
  {
   "cell_type": "markdown",
   "metadata": {},
   "source": [
    "# Training"
   ]
  },
  {
   "cell_type": "markdown",
   "metadata": {},
   "source": [
    "### Dataset"
   ]
  },
  {
   "cell_type": "code",
   "execution_count": 8,
   "metadata": {},
   "outputs": [
    {
     "name": "stdout",
     "output_type": "stream",
     "text": [
      "First Citizen:\n",
      "Before we proceed any further, hear me speak.\n",
      "\n",
      "All:\n",
      "Speak, speak.\n",
      "\n",
      "First Citizen:\n",
      "You\n"
     ]
    }
   ],
   "source": [
    "with open(\"input.txt\", \"r\") as file:\n",
    "    text = file.read()\n",
    "\n",
    "data = text[:1000]\n",
    "print(data[:100]) # Get the first 1k characters."
   ]
  },
  {
   "cell_type": "markdown",
   "metadata": {},
   "source": [
    "### Data preparation\n",
    "\n",
    "We need to generate training examples: sentences.\n",
    "As we are using self-supervised learning we only need to create batches of sentences."
   ]
  },
  {
   "cell_type": "code",
   "execution_count": 21,
   "metadata": {},
   "outputs": [
    {
     "name": "stdout",
     "output_type": "stream",
     "text": [
      "[5962, 22307, 25, 198, 8421, 356, 5120, 597, 2252, 11, 3285, 502, 2740, 13, 198, 198, 3237, 25, 198, 5248, 461, 11, 2740, 13]\n",
      "tensor([[ 5962, 22307,    25,   198,  8421,   356],\n",
      "        [ 5120,   597,  2252,    11,  3285,   502],\n",
      "        [ 2740,    13,   198,   198,  3237,    25],\n",
      "        [  198,  5248,   461,    11,  2740,    13]])\n"
     ]
    }
   ],
   "source": [
    "# gpt2 tokenizer has a compression of 3:1\n",
    "enc = tiktoken.get_encoding('gpt2')\n",
    "tokens = enc.encode(data)\n",
    "print(tokens[:24])\n",
    "\n",
    "# We can convert the tokens to a tensor and reshape it to a 4x6 tensor.\n",
    "# Here we get for example 4 sequences with 6 tokens each.\n",
    "# The problem though is that the lost token has no 'label'\n",
    "buf = torch.tensor(tokens[:24])\n",
    "x = buf.view(4,6)\n",
    "print(x)"
   ]
  },
  {
   "cell_type": "code",
   "execution_count": 20,
   "metadata": {},
   "outputs": [
    {
     "name": "stdout",
     "output_type": "stream",
     "text": [
      "tensor([ 5962, 22307,    25,   198,  8421,   356,  5120,   597,  2252,    11,\n",
      "         3285,   502,  2740,    13,   198,   198,  3237,    25,   198,  5248,\n",
      "          461,    11,  2740,    13,   198])\n",
      "tensor([[ 5962, 22307,    25,   198,  8421,   356],\n",
      "        [ 5120,   597,  2252,    11,  3285,   502],\n",
      "        [ 2740,    13,   198,   198,  3237,    25],\n",
      "        [  198,  5248,   461,    11,  2740,    13]])\n",
      "tensor([[22307,    25,   198,  8421,   356,  5120],\n",
      "        [  597,  2252,    11,  3285,   502,  2740],\n",
      "        [   13,   198,   198,  3237,    25,   198],\n",
      "        [ 5248,   461,    11,  2740,    13,   198]])\n"
     ]
    }
   ],
   "source": [
    "buf = torch.tensor(tokens[:24+1])\n",
    "print(buf)\n",
    "x = buf[:-1].view(4,6)\n",
    "y = buf[1:].view(4,6) # y is basically x shifted by one token to the right\n",
    "print(x)\n",
    "print(y)"
   ]
  },
  {
   "cell_type": "markdown",
   "metadata": {},
   "source": [
    "### `buf = torch.tensor(tokens[:B*T+1])`\n",
    "\n",
    "This only works with texts who are larger than B*T+1"
   ]
  },
  {
   "cell_type": "code",
   "execution_count": 57,
   "metadata": {},
   "outputs": [
    {
     "name": "stdout",
     "output_type": "stream",
     "text": [
      "tensor([  198,   464,  3290,   357,  6090,   271,  5385,   271,   393,  1680,\n",
      "          271,   300,   929,   385,  5385,   271,     8,   318,   257, 26026,\n",
      "         3474, 45923,   286,   262, 17481,    13,   220,   198,  7583,  1444,\n",
      "          262,  5928,  3290,    11,   340,   373, 26026,  3474,   422,   281,\n",
      "        28881,  3265,   286, 18063,   396, 34973, 23214,   625,  1478,    11,\n",
      "          830]) \n",
      "\n",
      "tensor([[  198,   464,  3290,   357,  6090,   271,  5385,   271,   393,  1680],\n",
      "        [  271,   300,   929,   385,  5385,   271,     8,   318,   257, 26026],\n",
      "        [ 3474, 45923,   286,   262, 17481,    13,   220,   198,  7583,  1444],\n",
      "        [  262,  5928,  3290,    11,   340,   373, 26026,  3474,   422,   281],\n",
      "        [28881,  3265,   286, 18063,   396, 34973, 23214,   625,  1478,    11]]) \n",
      "\n",
      "tensor([[  464,  3290,   357,  6090,   271,  5385,   271,   393,  1680,   271],\n",
      "        [  300,   929,   385,  5385,   271,     8,   318,   257, 26026,  3474],\n",
      "        [45923,   286,   262, 17481,    13,   220,   198,  7583,  1444,   262],\n",
      "        [ 5928,  3290,    11,   340,   373, 26026,  3474,   422,   281, 28881],\n",
      "        [ 3265,   286, 18063,   396, 34973, 23214,   625,  1478,    11,   830]]) \n",
      "\n"
     ]
    }
   ],
   "source": [
    "B = 5 # Number of batches\n",
    "T = 10 # Maximum sequence length\n",
    "\n",
    "enc = tiktoken.get_encoding('gpt2')\n",
    "sentence = \"\"\"\n",
    "The dog (Canis familiaris or Canis lupus familiaris) is a domesticated descendant of the wolf.\n",
    "Also called the domestic dog, it was domesticated from an extinct population of Pleistocene wolves over 14,000 years ago.\n",
    "The dog was the first species to be domesticated by humans.\n",
    "Experts estimate that hunter-gatherers domesticated dogs more than 15,000 years ago, which was before the development of agriculture.\n",
    "Due to their long association with humans, dogs have expanded to a large number of domestic individuals and gained the ability to thrive on a starch-rich diet that would be inadequate for other canids.\n",
    "\"\"\"\n",
    "tokens = enc.encode(sentence)\n",
    "buf = torch.tensor(tokens[:B*T+1])\n",
    "x = buf[:-1].view(B,T)\n",
    "y = buf[1:].view(B,T)\n",
    "print(buf,\"\\n\")\n",
    "print(x, \"\\n\")\n",
    "print(y, \"\\n\")"
   ]
  },
  {
   "cell_type": "code",
   "execution_count": 92,
   "metadata": {},
   "outputs": [
    {
     "name": "stdout",
     "output_type": "stream",
     "text": [
      "<__main__.MathOperations object at 0x111c6f250>\n"
     ]
    }
   ],
   "source": [
    "class MathOperations:\n",
    "    def __init__(self, a, b):\n",
    "        self.a = a\n",
    "        self.b = b\n",
    "        print(self)\n",
    "\n",
    "    def add(self, c):\n",
    "        return self.a + self.b + c\n",
    "\n",
    "\n",
    "\n",
    "# Calling the static method without an instance\n",
    "test = MathOperations(1,2)  # Output: 8\n"
   ]
  },
  {
   "cell_type": "markdown",
   "metadata": {},
   "source": [
    "# FAQ\n",
    "\n",
    "### F1 - Block size / sequence length\n",
    "- Sequence length (T) is the length of the input sequence, which can be less than or equal to the block size.\n",
    "- The block size is the maximum length of input sequences that the model can process.\n",
    "\n",
    "### F2 - Nice numbers\n",
    "- Always use numbers to the power of two e.g. batch size of 16, 24, 32 etc.\n",
    "- This is most efficient for the GPU\n",
    "- Always max out the maximum batch size that fits on your GPU\n",
    "\n",
    "### F3 - Powers of 2\n",
    "- Same as for batch optimization, CUDA prefers numbers to the power of 2\n",
    "\n",
    "### F4\n",
    "- We increase the vocab size as we want to work with a 'nicer' number. By doing so we are adding 'fake tokens'. While we are doing more flops it still runs more efficient due to the power of 'nice numbers'. "
   ]
  },
  {
   "cell_type": "markdown",
   "metadata": {},
   "source": [
    "# Taxonomy\n",
    "\n",
    "### Flops\n",
    "- FLOP stands for Floating Point Operation. It's a single mathematical calculation, like adding or multiplying numbers, especially numbers that have decimal points (floating point numbers)."
   ]
  },
  {
   "cell_type": "code",
   "execution_count": 126,
   "metadata": {},
   "outputs": [
    {
     "name": "stdout",
     "output_type": "stream",
     "text": [
      "Epoch [1/100], Loss: 42.0545\n",
      "Epoch [2/100], Loss: 27.8467\n",
      "Epoch [3/100], Loss: 19.6823\n",
      "Epoch [4/100], Loss: 12.6528\n",
      "Epoch [5/100], Loss: 6.6512\n",
      "Epoch [6/100], Loss: 2.6205\n",
      "Epoch [7/100], Loss: 0.7446\n",
      "Epoch [8/100], Loss: 0.1650\n",
      "Epoch [9/100], Loss: 0.0393\n",
      "Epoch [10/100], Loss: 0.0175\n"
     ]
    }
   ],
   "source": []
  },
  {
   "cell_type": "code",
   "execution_count": null,
   "metadata": {},
   "outputs": [],
   "source": []
  }
 ],
 "metadata": {
  "kernelspec": {
   "display_name": ".venv (3.9.6)",
   "language": "python",
   "name": "python3"
  },
  "language_info": {
   "codemirror_mode": {
    "name": "ipython",
    "version": 3
   },
   "file_extension": ".py",
   "mimetype": "text/x-python",
   "name": "python",
   "nbconvert_exporter": "python",
   "pygments_lexer": "ipython3",
   "version": "3.9.6"
  }
 },
 "nbformat": 4,
 "nbformat_minor": 2
}
